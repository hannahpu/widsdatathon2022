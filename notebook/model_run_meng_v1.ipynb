{
 "cells": [
  {
   "cell_type": "code",
   "execution_count": 1,
   "metadata": {
    "colab": {
     "base_uri": "https://localhost:8080/"
    },
    "id": "4UrBvH-g8GxD",
    "outputId": "65ac4b7c-55e6-461a-da73-3310573b02d6"
   },
   "outputs": [],
   "source": [
    "# !git clone https://github.com/hannahpu/widsdatathon2022.git\n",
    "# ! ls ./widsdatathon2022\n",
    "# ! pip install nb-black"
   ]
  },
  {
   "cell_type": "code",
   "execution_count": 2,
   "metadata": {},
   "outputs": [],
   "source": [
    "# ! ls .."
   ]
  },
  {
   "cell_type": "code",
   "execution_count": 3,
   "metadata": {
    "colab": {
     "base_uri": "https://localhost:8080/",
     "height": 52
    },
    "id": "wBT_F_YX7tyX",
    "outputId": "1cfedaf2-6f51-4eb3-96d0-0111e7e7b0e0"
   },
   "outputs": [
    {
     "data": {
      "application/javascript": [
       "\n",
       "            setTimeout(function() {\n",
       "                var nbb_cell_id = 3;\n",
       "                var nbb_unformatted_code = \"import sys\\n\\nimport pandas as pd\\nimport catboost as cb\\nimport xgboost as xgb\\nimport matplotlib.pyplot as plt\\nimport numpy as np\\n\\n# Will need enable_iterative_imputer import otherwise IterativeImputer\\n# gives import error\\nfrom sklearn.experimental import enable_iterative_imputer\\nfrom sklearn.impute import IterativeImputer\\nfrom sklearn.preprocessing import OneHotEncoder\\n\\nsys.path.append(\\\"..\\\")\\nimport global_vars as gv\\nfrom utils import model_utils as mu\\nfrom utils import data_utils as du\\nfrom utils import data_process_utils as dpu\\nfrom utils import visualize as viz\\n\\n# from utils.data_utils im\\\"port *\\n# from utils.data_process_utils import *\\n%load_ext nb_black\";\n",
       "                var nbb_formatted_code = \"import sys\\n\\nimport pandas as pd\\nimport catboost as cb\\nimport xgboost as xgb\\nimport matplotlib.pyplot as plt\\nimport numpy as np\\n\\n# Will need enable_iterative_imputer import otherwise IterativeImputer\\n# gives import error\\nfrom sklearn.experimental import enable_iterative_imputer\\nfrom sklearn.impute import IterativeImputer\\nfrom sklearn.preprocessing import OneHotEncoder\\n\\nsys.path.append(\\\"..\\\")\\nimport global_vars as gv\\nfrom utils import model_utils as mu\\nfrom utils import data_utils as du\\nfrom utils import data_process_utils as dpu\\nfrom utils import visualize as viz\\n\\n# from utils.data_utils im\\\"port *\\n# from utils.data_process_utils import *\\n%load_ext nb_black\";\n",
       "                var nbb_cells = Jupyter.notebook.get_cells();\n",
       "                for (var i = 0; i < nbb_cells.length; ++i) {\n",
       "                    if (nbb_cells[i].input_prompt_number == nbb_cell_id) {\n",
       "                        if (nbb_cells[i].get_text() == nbb_unformatted_code) {\n",
       "                             nbb_cells[i].set_text(nbb_formatted_code);\n",
       "                        }\n",
       "                        break;\n",
       "                    }\n",
       "                }\n",
       "            }, 500);\n",
       "            "
      ],
      "text/plain": [
       "<IPython.core.display.Javascript object>"
      ]
     },
     "metadata": {},
     "output_type": "display_data"
    }
   ],
   "source": [
    "import sys\n",
    "\n",
    "import pandas as pd\n",
    "import catboost as cb\n",
    "import xgboost as xgb\n",
    "import matplotlib.pyplot as plt\n",
    "import numpy as np\n",
    "\n",
    "# Will need enable_iterative_imputer import otherwise IterativeImputer\n",
    "# gives import error\n",
    "from sklearn.experimental import enable_iterative_imputer\n",
    "from sklearn.impute import IterativeImputer\n",
    "from sklearn.preprocessing import OneHotEncoder\n",
    "\n",
    "sys.path.append(\"..\")\n",
    "import global_vars as gv\n",
    "from utils import model_utils as mu\n",
    "from utils import data_utils as du\n",
    "from utils import data_process_utils as dpu\n",
    "from utils import visualize as viz\n",
    "\n",
    "# from utils.data_utils im\"port *\n",
    "# from utils.data_process_utils import *\n",
    "%load_ext nb_black"
   ]
  },
  {
   "cell_type": "code",
   "execution_count": 4,
   "metadata": {
    "colab": {
     "base_uri": "https://localhost:8080/",
     "height": 17
    },
    "id": "tY7bD2Awnps9",
    "outputId": "d22e2d8d-459c-442e-b508-f33f6fee5b7e"
   },
   "outputs": [
    {
     "data": {
      "application/javascript": [
       "\n",
       "            setTimeout(function() {\n",
       "                var nbb_cell_id = 4;\n",
       "                var nbb_unformatted_code = \"wids_path = \\\"../\\\"\";\n",
       "                var nbb_formatted_code = \"wids_path = \\\"../\\\"\";\n",
       "                var nbb_cells = Jupyter.notebook.get_cells();\n",
       "                for (var i = 0; i < nbb_cells.length; ++i) {\n",
       "                    if (nbb_cells[i].input_prompt_number == nbb_cell_id) {\n",
       "                        if (nbb_cells[i].get_text() == nbb_unformatted_code) {\n",
       "                             nbb_cells[i].set_text(nbb_formatted_code);\n",
       "                        }\n",
       "                        break;\n",
       "                    }\n",
       "                }\n",
       "            }, 500);\n",
       "            "
      ],
      "text/plain": [
       "<IPython.core.display.Javascript object>"
      ]
     },
     "metadata": {},
     "output_type": "display_data"
    }
   ],
   "source": [
    "wids_path = \"../\""
   ]
  },
  {
   "cell_type": "code",
   "execution_count": 5,
   "metadata": {
    "colab": {
     "base_uri": "https://localhost:8080/",
     "height": 70
    },
    "id": "miNzq96M7xAu",
    "outputId": "39810107-9d80-4d6b-dcea-72cb9a7a7b34"
   },
   "outputs": [
    {
     "name": "stdout",
     "output_type": "stream",
     "text": [
      "Test dimension: (9705, 63)\n",
      "Train dimension: (75757, 64)\n",
      "Sample solution dimension: (9705, 2)\n"
     ]
    },
    {
     "data": {
      "application/javascript": [
       "\n",
       "            setTimeout(function() {\n",
       "                var nbb_cell_id = 5;\n",
       "                var nbb_unformatted_code = \"test_df = pd.read_csv(\\\"../data/test.csv\\\")\\nprint(f\\\"Test dimension: {test_df.shape}\\\")\\ntrain_df = pd.read_csv(\\\"../data/train.csv\\\")\\nprint(f\\\"Train dimension: {train_df.shape}\\\")\\nsample_solution_df = pd.read_csv(\\\"../data/sample_solution.csv\\\")\\nprint(f\\\"Sample solution dimension: {sample_solution_df.shape}\\\")\\ntrain_df.columns = train_df.columns.str.lower()\\ntest_df.columns = test_df.columns.str.lower()\";\n",
       "                var nbb_formatted_code = \"test_df = pd.read_csv(\\\"../data/test.csv\\\")\\nprint(f\\\"Test dimension: {test_df.shape}\\\")\\ntrain_df = pd.read_csv(\\\"../data/train.csv\\\")\\nprint(f\\\"Train dimension: {train_df.shape}\\\")\\nsample_solution_df = pd.read_csv(\\\"../data/sample_solution.csv\\\")\\nprint(f\\\"Sample solution dimension: {sample_solution_df.shape}\\\")\\ntrain_df.columns = train_df.columns.str.lower()\\ntest_df.columns = test_df.columns.str.lower()\";\n",
       "                var nbb_cells = Jupyter.notebook.get_cells();\n",
       "                for (var i = 0; i < nbb_cells.length; ++i) {\n",
       "                    if (nbb_cells[i].input_prompt_number == nbb_cell_id) {\n",
       "                        if (nbb_cells[i].get_text() == nbb_unformatted_code) {\n",
       "                             nbb_cells[i].set_text(nbb_formatted_code);\n",
       "                        }\n",
       "                        break;\n",
       "                    }\n",
       "                }\n",
       "            }, 500);\n",
       "            "
      ],
      "text/plain": [
       "<IPython.core.display.Javascript object>"
      ]
     },
     "metadata": {},
     "output_type": "display_data"
    }
   ],
   "source": [
    "test_df = pd.read_csv(\"../data/test.csv\")\n",
    "print(f\"Test dimension: {test_df.shape}\")\n",
    "train_df = pd.read_csv(\"../data/train.csv\")\n",
    "print(f\"Train dimension: {train_df.shape}\")\n",
    "sample_solution_df = pd.read_csv(\"../data/sample_solution.csv\")\n",
    "print(f\"Sample solution dimension: {sample_solution_df.shape}\")\n",
    "train_df.columns = train_df.columns.str.lower()\n",
    "test_df.columns = test_df.columns.str.lower()"
   ]
  },
  {
   "cell_type": "code",
   "execution_count": 6,
   "metadata": {
    "colab": {
     "base_uri": "https://localhost:8080/",
     "height": 17
    },
    "id": "xHd39G2t9b4H",
    "outputId": "dc1d9151-b0bb-4afc-9740-2f9f45084b9e"
   },
   "outputs": [
    {
     "data": {
      "application/javascript": [
       "\n",
       "            setTimeout(function() {\n",
       "                var nbb_cell_id = 6;\n",
       "                var nbb_unformatted_code = \"# Add parsed facility type, after parsing it has 20 types\\ntrain_w_parsed_facility_type_df = dpu.parse_facility_type(\\n    input_df=train_df.copy(), facility_type_colname=\\\"facility_type\\\"\\n)\\ntest_w_parsed_facility_type_df = dpu.parse_facility_type(\\n    input_df=test_df.copy(), facility_type_colname=\\\"facility_type\\\"\\n)\";\n",
       "                var nbb_formatted_code = \"# Add parsed facility type, after parsing it has 20 types\\ntrain_w_parsed_facility_type_df = dpu.parse_facility_type(\\n    input_df=train_df.copy(), facility_type_colname=\\\"facility_type\\\"\\n)\\ntest_w_parsed_facility_type_df = dpu.parse_facility_type(\\n    input_df=test_df.copy(), facility_type_colname=\\\"facility_type\\\"\\n)\";\n",
       "                var nbb_cells = Jupyter.notebook.get_cells();\n",
       "                for (var i = 0; i < nbb_cells.length; ++i) {\n",
       "                    if (nbb_cells[i].input_prompt_number == nbb_cell_id) {\n",
       "                        if (nbb_cells[i].get_text() == nbb_unformatted_code) {\n",
       "                             nbb_cells[i].set_text(nbb_formatted_code);\n",
       "                        }\n",
       "                        break;\n",
       "                    }\n",
       "                }\n",
       "            }, 500);\n",
       "            "
      ],
      "text/plain": [
       "<IPython.core.display.Javascript object>"
      ]
     },
     "metadata": {},
     "output_type": "display_data"
    }
   ],
   "source": [
    "# Add parsed facility type, after parsing it has 20 types\n",
    "train_w_parsed_facility_type_df = dpu.parse_facility_type(\n",
    "    input_df=train_df.copy(), facility_type_colname=\"facility_type\"\n",
    ")\n",
    "test_w_parsed_facility_type_df = dpu.parse_facility_type(\n",
    "    input_df=test_df.copy(), facility_type_colname=\"facility_type\"\n",
    ")"
   ]
  },
  {
   "cell_type": "code",
   "execution_count": 7,
   "metadata": {
    "colab": {
     "base_uri": "https://localhost:8080/",
     "height": 266
    },
    "id": "6vRguYhg-3Ii",
    "outputId": "d8b7171c-0415-4050-9359-22f0c4cfb68c"
   },
   "outputs": [
    {
     "data": {
      "application/javascript": [
       "\n",
       "            setTimeout(function() {\n",
       "                var nbb_cell_id = 7;\n",
       "                var nbb_unformatted_code = \"# Backfill missing 'direction_max_wind_speed' with categorized values based on\\n# [\\\"state_factor\\\", \\\"year\\\"] aggregation\\ngroupby_list = [\\\"state_factor\\\", \\\"year_factor\\\"]\\ncol = \\\"direction_max_wind_speed\\\"\\n\\ntrain_backfill_direction_max_wind_speed_df = dpu.backfill_wind_direction(\\n    input_df=train_w_parsed_facility_type_df,\\n    mapping_df=train_w_parsed_facility_type_df,\\n    groupby_list=groupby_list,\\n    wind_direction_colname=col,\\n    agg_approach_func=np.nanmean,\\n)\\n# Because there is only one year in test data therefore backfill based on\\n# [\\\"state_factor\\\", \\\"year_factor\\\"] won't work, therefore we only used \\\"state_factor\\\"\\n# instead\\ntest_backfill_direction_max_wind_speed_df = dpu.backfill_wind_direction(\\n    input_df=test_w_parsed_facility_type_df,\\n    mapping_df=train_w_parsed_facility_type_df,\\n    groupby_list=[\\\"state_factor\\\"],\\n    wind_direction_colname=col,\\n    agg_approach_func=np.nanmean,\\n)\\n# print(train_backfill_direction_max_wind_speed_df.filter(like=\\\"direction_max\\\").info())\\n# print(test_backfill_direction_max_wind_speed_df.filter(like=\\\"direction_max\\\").info())\\n\\n# Get categorized on 'backfilled_direction_max_wind_speed'\\nbackfilled_max_wind_speed_col = \\\"backfilled_direction_max_wind_speed\\\"\\ntrain_w_categorized_max_wind_speed_df = (\\n    train_backfill_direction_max_wind_speed_df.assign(\\n        categorized_direction_max_wind_speed=lambda df: df[\\n            backfilled_max_wind_speed_col\\n        ].apply(\\n            lambda a_direction_value: dpu.categorize_wind_direction(\\n                wind_direction_degree=a_direction_value, n_bins_categorized=8\\n            )\\n        )\\n    )\\n)\\n\\ntest_w_categorized_max_wind_speed_df = test_backfill_direction_max_wind_speed_df.assign(\\n    categorized_direction_max_wind_speed=lambda df: df[\\n        backfilled_max_wind_speed_col\\n    ].apply(\\n        lambda a_direction_value: dpu.categorize_wind_direction(\\n            wind_direction_degree=a_direction_value, n_bins_categorized=8\\n        )\\n    )\\n)\\n# print(train_w_categorized_max_wind_speed_df.filter(like=\\\"categorized_direction\\\"))\\n# print(test_w_categorized_max_wind_speed_df.filter(like=\\\"categorized_direction\\\"))\";\n",
       "                var nbb_formatted_code = \"# Backfill missing 'direction_max_wind_speed' with categorized values based on\\n# [\\\"state_factor\\\", \\\"year\\\"] aggregation\\ngroupby_list = [\\\"state_factor\\\", \\\"year_factor\\\"]\\ncol = \\\"direction_max_wind_speed\\\"\\n\\ntrain_backfill_direction_max_wind_speed_df = dpu.backfill_wind_direction(\\n    input_df=train_w_parsed_facility_type_df,\\n    mapping_df=train_w_parsed_facility_type_df,\\n    groupby_list=groupby_list,\\n    wind_direction_colname=col,\\n    agg_approach_func=np.nanmean,\\n)\\n# Because there is only one year in test data therefore backfill based on\\n# [\\\"state_factor\\\", \\\"year_factor\\\"] won't work, therefore we only used \\\"state_factor\\\"\\n# instead\\ntest_backfill_direction_max_wind_speed_df = dpu.backfill_wind_direction(\\n    input_df=test_w_parsed_facility_type_df,\\n    mapping_df=train_w_parsed_facility_type_df,\\n    groupby_list=[\\\"state_factor\\\"],\\n    wind_direction_colname=col,\\n    agg_approach_func=np.nanmean,\\n)\\n# print(train_backfill_direction_max_wind_speed_df.filter(like=\\\"direction_max\\\").info())\\n# print(test_backfill_direction_max_wind_speed_df.filter(like=\\\"direction_max\\\").info())\\n\\n# Get categorized on 'backfilled_direction_max_wind_speed'\\nbackfilled_max_wind_speed_col = \\\"backfilled_direction_max_wind_speed\\\"\\ntrain_w_categorized_max_wind_speed_df = (\\n    train_backfill_direction_max_wind_speed_df.assign(\\n        categorized_direction_max_wind_speed=lambda df: df[\\n            backfilled_max_wind_speed_col\\n        ].apply(\\n            lambda a_direction_value: dpu.categorize_wind_direction(\\n                wind_direction_degree=a_direction_value, n_bins_categorized=8\\n            )\\n        )\\n    )\\n)\\n\\ntest_w_categorized_max_wind_speed_df = test_backfill_direction_max_wind_speed_df.assign(\\n    categorized_direction_max_wind_speed=lambda df: df[\\n        backfilled_max_wind_speed_col\\n    ].apply(\\n        lambda a_direction_value: dpu.categorize_wind_direction(\\n            wind_direction_degree=a_direction_value, n_bins_categorized=8\\n        )\\n    )\\n)\\n# print(train_w_categorized_max_wind_speed_df.filter(like=\\\"categorized_direction\\\"))\\n# print(test_w_categorized_max_wind_speed_df.filter(like=\\\"categorized_direction\\\"))\";\n",
       "                var nbb_cells = Jupyter.notebook.get_cells();\n",
       "                for (var i = 0; i < nbb_cells.length; ++i) {\n",
       "                    if (nbb_cells[i].input_prompt_number == nbb_cell_id) {\n",
       "                        if (nbb_cells[i].get_text() == nbb_unformatted_code) {\n",
       "                             nbb_cells[i].set_text(nbb_formatted_code);\n",
       "                        }\n",
       "                        break;\n",
       "                    }\n",
       "                }\n",
       "            }, 500);\n",
       "            "
      ],
      "text/plain": [
       "<IPython.core.display.Javascript object>"
      ]
     },
     "metadata": {},
     "output_type": "display_data"
    }
   ],
   "source": [
    "# Backfill missing 'direction_max_wind_speed' with categorized values based on\n",
    "# [\"state_factor\", \"year\"] aggregation\n",
    "groupby_list = [\"state_factor\", \"year_factor\"]\n",
    "col = \"direction_max_wind_speed\"\n",
    "\n",
    "train_backfill_direction_max_wind_speed_df = dpu.backfill_wind_direction(\n",
    "    input_df=train_w_parsed_facility_type_df,\n",
    "    mapping_df=train_w_parsed_facility_type_df,\n",
    "    groupby_list=groupby_list,\n",
    "    wind_direction_colname=col,\n",
    "    agg_approach_func=np.nanmean,\n",
    ")\n",
    "# Because there is only one year in test data therefore backfill based on\n",
    "# [\"state_factor\", \"year_factor\"] won't work, therefore we only used \"state_factor\"\n",
    "# instead\n",
    "test_backfill_direction_max_wind_speed_df = dpu.backfill_wind_direction(\n",
    "    input_df=test_w_parsed_facility_type_df,\n",
    "    mapping_df=train_w_parsed_facility_type_df,\n",
    "    groupby_list=[\"state_factor\"],\n",
    "    wind_direction_colname=col,\n",
    "    agg_approach_func=np.nanmean,\n",
    ")\n",
    "# print(train_backfill_direction_max_wind_speed_df.filter(like=\"direction_max\").info())\n",
    "# print(test_backfill_direction_max_wind_speed_df.filter(like=\"direction_max\").info())\n",
    "\n",
    "# Get categorized on 'backfilled_direction_max_wind_speed'\n",
    "backfilled_max_wind_speed_col = \"backfilled_direction_max_wind_speed\"\n",
    "train_w_categorized_max_wind_speed_df = (\n",
    "    train_backfill_direction_max_wind_speed_df.assign(\n",
    "        categorized_direction_max_wind_speed=lambda df: df[\n",
    "            backfilled_max_wind_speed_col\n",
    "        ].apply(\n",
    "            lambda a_direction_value: dpu.categorize_wind_direction(\n",
    "                wind_direction_degree=a_direction_value, n_bins_categorized=8\n",
    "            )\n",
    "        )\n",
    "    )\n",
    ")\n",
    "\n",
    "test_w_categorized_max_wind_speed_df = test_backfill_direction_max_wind_speed_df.assign(\n",
    "    categorized_direction_max_wind_speed=lambda df: df[\n",
    "        backfilled_max_wind_speed_col\n",
    "    ].apply(\n",
    "        lambda a_direction_value: dpu.categorize_wind_direction(\n",
    "            wind_direction_degree=a_direction_value, n_bins_categorized=8\n",
    "        )\n",
    "    )\n",
    ")\n",
    "# print(train_w_categorized_max_wind_speed_df.filter(like=\"categorized_direction\"))\n",
    "# print(test_w_categorized_max_wind_speed_df.filter(like=\"categorized_direction\"))"
   ]
  },
  {
   "cell_type": "markdown",
   "metadata": {
    "id": "jkuPjfeMYrnY"
   },
   "source": [
    "**Use iterative imputer to impute energy star ratings**\n",
    "\n",
    "With PCA components = 4 which explains 81% variance and one-hot-encoding. The categorical features used in the imputer are \"state_factor\", \"building_class\", and \"facility_type_parsed\". The numerical features are all below temp columns"
   ]
  },
  {
   "cell_type": "code",
   "execution_count": 8,
   "metadata": {
    "colab": {
     "base_uri": "https://localhost:8080/",
     "height": 17
    },
    "id": "rHdy0I7SImpp",
    "outputId": "a4163469-b1a5-4fef-b1f7-aa91c5fe40ed"
   },
   "outputs": [
    {
     "data": {
      "application/javascript": [
       "\n",
       "            setTimeout(function() {\n",
       "                var nbb_cell_id = 8;\n",
       "                var nbb_unformatted_code = \"train_impute_energy_star_df = train_w_categorized_max_wind_speed_df.copy()\\ntest_impute_energy_star_df = test_w_categorized_max_wind_speed_df.copy()\\n\\n# Run a PCA for missing value imputation in energy star rating\\ncols_to_reduce_numerical = gv.below_temp_col_list \\ncols_to_reduce_categorical = [\\\"state_factor\\\", \\n                              \\\"building_class\\\", \\n                              \\\"facility_type_parsed\\\"]\\n\\n# Need a one-hot-encoding\\ntrain_impute_energy_star_dfs_list = []\\ntest_impute_energy_star_dfs_list = []\\nfor a_categorical_col in cols_to_reduce_categorical:\\n    onehot_encoder = OneHotEncoder().fit(\\n      train_impute_energy_star_df[[a_categorical_col]])\\n    train_impute_energy_star_transformed_array = onehot_encoder.transform(\\n      train_impute_energy_star_df[[a_categorical_col]]).toarray()\\n    test_impute_energy_star_transformed_array = onehot_encoder.transform(\\n      test_impute_energy_star_df[[a_categorical_col]]).toarray()\\n    \\n    train_impute_energy_star_transformed_df = pd.DataFrame(\\n      train_impute_energy_star_transformed_array, \\n      columns=[f\\\"{a_categorical_col}_{i}\\\" for i in \\n               range(train_impute_energy_star_transformed_array.shape[1])])\\n    test_impute_energy_star_transformed_df = pd.DataFrame(\\n      test_impute_energy_star_transformed_array, \\n      columns=[f\\\"{a_categorical_col}_{i}\\\" for i in \\n               range(test_impute_energy_star_transformed_array.shape[1])])\\n    \\n    train_impute_energy_star_dfs_list.append(train_impute_energy_star_transformed_df)\\n    test_impute_energy_star_dfs_list.append(test_impute_energy_star_transformed_df)\\n\\n# Merge processed categorical data into one based on index\\ntrain_impute_energy_star_processed_categorical_df = pd.concat(\\n    train_impute_energy_star_dfs_list, axis=1\\n)\\ntest_impute_energy_star_processed_categorical_df = pd.concat(\\n    test_impute_energy_star_dfs_list, axis=1\\n)\\n\\nscaled_train_impute_energy_star_df, scaled_test_impute_energy_star_df = mu.scale_data(\\n    train_impute_energy_star_df[cols_to_reduce_numerical], \\n    test_impute_energy_star_df[cols_to_reduce_numerical]\\n)\\n\\n# Merge processed categorical and numerical together\\ntrain_impute_energy_star_merged_df = train_impute_energy_star_processed_categorical_df.merge(\\n   scaled_train_impute_energy_star_df, left_index=True, right_index=True,\\n   how=\\\"left\\\" \\n)\\n\\ntest_impute_energy_star_merged_df = test_impute_energy_star_processed_categorical_df.merge(\\n   scaled_test_impute_energy_star_df, left_index=True, right_index=True,\\n   how=\\\"left\\\" \\n)\";\n",
       "                var nbb_formatted_code = \"train_impute_energy_star_df = train_w_categorized_max_wind_speed_df.copy()\\ntest_impute_energy_star_df = test_w_categorized_max_wind_speed_df.copy()\\n\\n# Run a PCA for missing value imputation in energy star rating\\ncols_to_reduce_numerical = gv.below_temp_col_list\\ncols_to_reduce_categorical = [\\\"state_factor\\\", \\\"building_class\\\", \\\"facility_type_parsed\\\"]\\n\\n# Need a one-hot-encoding\\ntrain_impute_energy_star_dfs_list = []\\ntest_impute_energy_star_dfs_list = []\\nfor a_categorical_col in cols_to_reduce_categorical:\\n    onehot_encoder = OneHotEncoder().fit(\\n        train_impute_energy_star_df[[a_categorical_col]]\\n    )\\n    train_impute_energy_star_transformed_array = onehot_encoder.transform(\\n        train_impute_energy_star_df[[a_categorical_col]]\\n    ).toarray()\\n    test_impute_energy_star_transformed_array = onehot_encoder.transform(\\n        test_impute_energy_star_df[[a_categorical_col]]\\n    ).toarray()\\n\\n    train_impute_energy_star_transformed_df = pd.DataFrame(\\n        train_impute_energy_star_transformed_array,\\n        columns=[\\n            f\\\"{a_categorical_col}_{i}\\\"\\n            for i in range(train_impute_energy_star_transformed_array.shape[1])\\n        ],\\n    )\\n    test_impute_energy_star_transformed_df = pd.DataFrame(\\n        test_impute_energy_star_transformed_array,\\n        columns=[\\n            f\\\"{a_categorical_col}_{i}\\\"\\n            for i in range(test_impute_energy_star_transformed_array.shape[1])\\n        ],\\n    )\\n\\n    train_impute_energy_star_dfs_list.append(train_impute_energy_star_transformed_df)\\n    test_impute_energy_star_dfs_list.append(test_impute_energy_star_transformed_df)\\n\\n# Merge processed categorical data into one based on index\\ntrain_impute_energy_star_processed_categorical_df = pd.concat(\\n    train_impute_energy_star_dfs_list, axis=1\\n)\\ntest_impute_energy_star_processed_categorical_df = pd.concat(\\n    test_impute_energy_star_dfs_list, axis=1\\n)\\n\\nscaled_train_impute_energy_star_df, scaled_test_impute_energy_star_df = mu.scale_data(\\n    train_impute_energy_star_df[cols_to_reduce_numerical],\\n    test_impute_energy_star_df[cols_to_reduce_numerical],\\n)\\n\\n# Merge processed categorical and numerical together\\ntrain_impute_energy_star_merged_df = (\\n    train_impute_energy_star_processed_categorical_df.merge(\\n        scaled_train_impute_energy_star_df,\\n        left_index=True,\\n        right_index=True,\\n        how=\\\"left\\\",\\n    )\\n)\\n\\ntest_impute_energy_star_merged_df = (\\n    test_impute_energy_star_processed_categorical_df.merge(\\n        scaled_test_impute_energy_star_df, left_index=True, right_index=True, how=\\\"left\\\"\\n    )\\n)\";\n",
       "                var nbb_cells = Jupyter.notebook.get_cells();\n",
       "                for (var i = 0; i < nbb_cells.length; ++i) {\n",
       "                    if (nbb_cells[i].input_prompt_number == nbb_cell_id) {\n",
       "                        if (nbb_cells[i].get_text() == nbb_unformatted_code) {\n",
       "                             nbb_cells[i].set_text(nbb_formatted_code);\n",
       "                        }\n",
       "                        break;\n",
       "                    }\n",
       "                }\n",
       "            }, 500);\n",
       "            "
      ],
      "text/plain": [
       "<IPython.core.display.Javascript object>"
      ]
     },
     "metadata": {},
     "output_type": "display_data"
    }
   ],
   "source": [
    "train_impute_energy_star_df = train_w_categorized_max_wind_speed_df.copy()\n",
    "test_impute_energy_star_df = test_w_categorized_max_wind_speed_df.copy()\n",
    "\n",
    "# Run a PCA for missing value imputation in energy star rating\n",
    "cols_to_reduce_numerical = gv.below_temp_col_list \n",
    "cols_to_reduce_categorical = [\"state_factor\", \n",
    "                              \"building_class\", \n",
    "                              \"facility_type_parsed\"]\n",
    "\n",
    "# Need a one-hot-encoding\n",
    "train_impute_energy_star_dfs_list = []\n",
    "test_impute_energy_star_dfs_list = []\n",
    "for a_categorical_col in cols_to_reduce_categorical:\n",
    "    onehot_encoder = OneHotEncoder().fit(\n",
    "      train_impute_energy_star_df[[a_categorical_col]])\n",
    "    train_impute_energy_star_transformed_array = onehot_encoder.transform(\n",
    "      train_impute_energy_star_df[[a_categorical_col]]).toarray()\n",
    "    test_impute_energy_star_transformed_array = onehot_encoder.transform(\n",
    "      test_impute_energy_star_df[[a_categorical_col]]).toarray()\n",
    "    \n",
    "    train_impute_energy_star_transformed_df = pd.DataFrame(\n",
    "      train_impute_energy_star_transformed_array, \n",
    "      columns=[f\"{a_categorical_col}_{i}\" for i in \n",
    "               range(train_impute_energy_star_transformed_array.shape[1])])\n",
    "    test_impute_energy_star_transformed_df = pd.DataFrame(\n",
    "      test_impute_energy_star_transformed_array, \n",
    "      columns=[f\"{a_categorical_col}_{i}\" for i in \n",
    "               range(test_impute_energy_star_transformed_array.shape[1])])\n",
    "    \n",
    "    train_impute_energy_star_dfs_list.append(train_impute_energy_star_transformed_df)\n",
    "    test_impute_energy_star_dfs_list.append(test_impute_energy_star_transformed_df)\n",
    "\n",
    "# Merge processed categorical data into one based on index\n",
    "train_impute_energy_star_processed_categorical_df = pd.concat(\n",
    "    train_impute_energy_star_dfs_list, axis=1\n",
    ")\n",
    "test_impute_energy_star_processed_categorical_df = pd.concat(\n",
    "    test_impute_energy_star_dfs_list, axis=1\n",
    ")\n",
    "\n",
    "scaled_train_impute_energy_star_df, scaled_test_impute_energy_star_df = mu.scale_data(\n",
    "    train_impute_energy_star_df[cols_to_reduce_numerical], \n",
    "    test_impute_energy_star_df[cols_to_reduce_numerical]\n",
    ")\n",
    "\n",
    "# Merge processed categorical and numerical together\n",
    "train_impute_energy_star_merged_df = train_impute_energy_star_processed_categorical_df.merge(\n",
    "   scaled_train_impute_energy_star_df, left_index=True, right_index=True,\n",
    "   how=\"left\" \n",
    ")\n",
    "\n",
    "test_impute_energy_star_merged_df = test_impute_energy_star_processed_categorical_df.merge(\n",
    "   scaled_test_impute_energy_star_df, left_index=True, right_index=True,\n",
    "   how=\"left\" \n",
    ")\n"
   ]
  },
  {
   "cell_type": "code",
   "execution_count": 9,
   "metadata": {
    "colab": {
     "base_uri": "https://localhost:8080/",
     "height": 35
    },
    "id": "BlMFI8E6U1RP",
    "outputId": "701c328e-d853-4117-d3b6-8b109871bc80"
   },
   "outputs": [
    {
     "data": {
      "text/plain": [
       "(75757, 37)"
      ]
     },
     "execution_count": 9,
     "metadata": {},
     "output_type": "execute_result"
    },
    {
     "data": {
      "application/javascript": [
       "\n",
       "            setTimeout(function() {\n",
       "                var nbb_cell_id = 9;\n",
       "                var nbb_unformatted_code = \"train_impute_energy_star_merged_df.shape\";\n",
       "                var nbb_formatted_code = \"train_impute_energy_star_merged_df.shape\";\n",
       "                var nbb_cells = Jupyter.notebook.get_cells();\n",
       "                for (var i = 0; i < nbb_cells.length; ++i) {\n",
       "                    if (nbb_cells[i].input_prompt_number == nbb_cell_id) {\n",
       "                        if (nbb_cells[i].get_text() == nbb_unformatted_code) {\n",
       "                             nbb_cells[i].set_text(nbb_formatted_code);\n",
       "                        }\n",
       "                        break;\n",
       "                    }\n",
       "                }\n",
       "            }, 500);\n",
       "            "
      ],
      "text/plain": [
       "<IPython.core.display.Javascript object>"
      ]
     },
     "metadata": {},
     "output_type": "display_data"
    }
   ],
   "source": [
    "train_impute_energy_star_merged_df.shape"
   ]
  },
  {
   "cell_type": "code",
   "execution_count": 10,
   "metadata": {
    "colab": {
     "base_uri": "https://localhost:8080/",
     "height": 266
    },
    "id": "l1zpqQ8vUzBu",
    "outputId": "f3fd69aa-501f-47f2-cba2-0155aafdc777"
   },
   "outputs": [
    {
     "name": "stdout",
     "output_type": "stream",
     "text": [
      "Fitting PCA with 1 components\n",
      "0.35658576032912437\n",
      "Fitting PCA with 2 components\n",
      "0.5933198019960959\n",
      "Fitting PCA with 3 components\n",
      "0.7206991605976221\n",
      "Fitting PCA with 4 components\n",
      "0.8136952019723978\n",
      "Fitting PCA with 5 components\n",
      "0.813695201972416\n",
      "Fitting PCA with 6 components\n",
      "0.8136952019724146\n",
      "Fitting PCA with 7 components\n",
      "0.8136952019724111\n"
     ]
    },
    {
     "data": {
      "application/javascript": [
       "\n",
       "            setTimeout(function() {\n",
       "                var nbb_cell_id = 10;\n",
       "                var nbb_unformatted_code = \"# Find the optimal PCA for energy star imputation\\n# 4 can already explain 81% varience \\nfor n_component in range(1, 8):\\n    pca = du.pca_fit(train_impute_energy_star_merged_df, n_components=n_component)\\n    scaled_train_impute_energy_star_w_pca = pca.transform(train_impute_energy_star_merged_df)\\n    scaled_test_impute_energy_star_w_pca = pca.transform(test_impute_energy_star_merged_df)\\n    print(sum(pca.explained_variance_ratio_[:4]))\";\n",
       "                var nbb_formatted_code = \"# Find the optimal PCA for energy star imputation\\n# 4 can already explain 81% varience\\nfor n_component in range(1, 8):\\n    pca = du.pca_fit(train_impute_energy_star_merged_df, n_components=n_component)\\n    scaled_train_impute_energy_star_w_pca = pca.transform(\\n        train_impute_energy_star_merged_df\\n    )\\n    scaled_test_impute_energy_star_w_pca = pca.transform(\\n        test_impute_energy_star_merged_df\\n    )\\n    print(sum(pca.explained_variance_ratio_[:4]))\";\n",
       "                var nbb_cells = Jupyter.notebook.get_cells();\n",
       "                for (var i = 0; i < nbb_cells.length; ++i) {\n",
       "                    if (nbb_cells[i].input_prompt_number == nbb_cell_id) {\n",
       "                        if (nbb_cells[i].get_text() == nbb_unformatted_code) {\n",
       "                             nbb_cells[i].set_text(nbb_formatted_code);\n",
       "                        }\n",
       "                        break;\n",
       "                    }\n",
       "                }\n",
       "            }, 500);\n",
       "            "
      ],
      "text/plain": [
       "<IPython.core.display.Javascript object>"
      ]
     },
     "metadata": {},
     "output_type": "display_data"
    }
   ],
   "source": [
    "# Find the optimal PCA for energy star imputation\n",
    "# 4 can already explain 81% varience\n",
    "for n_component in range(1, 8):\n",
    "    pca = du.pca_fit(train_impute_energy_star_merged_df, n_components=n_component)\n",
    "    scaled_train_impute_energy_star_w_pca = pca.transform(\n",
    "        train_impute_energy_star_merged_df\n",
    "    )\n",
    "    scaled_test_impute_energy_star_w_pca = pca.transform(\n",
    "        test_impute_energy_star_merged_df\n",
    "    )\n",
    "    print(sum(pca.explained_variance_ratio_[:4]))"
   ]
  },
  {
   "cell_type": "code",
   "execution_count": 11,
   "metadata": {
    "colab": {
     "base_uri": "https://localhost:8080/",
     "height": 177
    },
    "id": "Uz34jCvmWNtW",
    "outputId": "77db4333-310f-49f0-8dad-48315537622f"
   },
   "outputs": [
    {
     "name": "stdout",
     "output_type": "stream",
     "text": [
      "Fitting PCA with 4 components\n",
      "0.8136952019724096\n"
     ]
    },
    {
     "data": {
      "application/javascript": [
       "\n",
       "            setTimeout(function() {\n",
       "                var nbb_cell_id = 11;\n",
       "                var nbb_unformatted_code = \"pca = du.pca_fit(train_impute_energy_star_merged_df, n_components=4)\\nscaled_train_impute_energy_star_w_pca_optimal = pca.transform(train_impute_energy_star_merged_df)\\nscaled_test_impute_energy_star_w_pca_optimal = pca.transform(test_impute_energy_star_merged_df)\\nprint(sum(pca.explained_variance_ratio_[:4]))\";\n",
       "                var nbb_formatted_code = \"pca = du.pca_fit(train_impute_energy_star_merged_df, n_components=4)\\nscaled_train_impute_energy_star_w_pca_optimal = pca.transform(\\n    train_impute_energy_star_merged_df\\n)\\nscaled_test_impute_energy_star_w_pca_optimal = pca.transform(\\n    test_impute_energy_star_merged_df\\n)\\nprint(sum(pca.explained_variance_ratio_[:4]))\";\n",
       "                var nbb_cells = Jupyter.notebook.get_cells();\n",
       "                for (var i = 0; i < nbb_cells.length; ++i) {\n",
       "                    if (nbb_cells[i].input_prompt_number == nbb_cell_id) {\n",
       "                        if (nbb_cells[i].get_text() == nbb_unformatted_code) {\n",
       "                             nbb_cells[i].set_text(nbb_formatted_code);\n",
       "                        }\n",
       "                        break;\n",
       "                    }\n",
       "                }\n",
       "            }, 500);\n",
       "            "
      ],
      "text/plain": [
       "<IPython.core.display.Javascript object>"
      ]
     },
     "metadata": {},
     "output_type": "display_data"
    }
   ],
   "source": [
    "pca = du.pca_fit(train_impute_energy_star_merged_df, n_components=4)\n",
    "scaled_train_impute_energy_star_w_pca_optimal = pca.transform(\n",
    "    train_impute_energy_star_merged_df\n",
    ")\n",
    "scaled_test_impute_energy_star_w_pca_optimal = pca.transform(\n",
    "    test_impute_energy_star_merged_df\n",
    ")\n",
    "print(sum(pca.explained_variance_ratio_[:4]))"
   ]
  },
  {
   "cell_type": "code",
   "execution_count": 12,
   "metadata": {
    "colab": {
     "base_uri": "https://localhost:8080/",
     "height": 35
    },
    "id": "hYk0Xp5VW-mm",
    "outputId": "f055ca9a-a4d2-47b6-c0c8-4de25ef5ad45"
   },
   "outputs": [
    {
     "data": {
      "application/javascript": [
       "\n",
       "            setTimeout(function() {\n",
       "                var nbb_cell_id = 12;\n",
       "                var nbb_unformatted_code = \"scaled_train_impute_energy_star_w_pca_optimal_df = pd.DataFrame(\\n    scaled_train_impute_energy_star_w_pca_optimal, columns=[\\n       f\\\"pca_{i}\\\" for i in range(scaled_train_impute_energy_star_w_pca_optimal.shape[1])\\n    ]\\n)\\n\\nscaled_test_impute_energy_star_w_pca_optimal_df = pd.DataFrame(\\n    scaled_test_impute_energy_star_w_pca_optimal, columns=[\\n       f\\\"pca_{i}\\\" for i in range(scaled_test_impute_energy_star_w_pca_optimal.shape[1])\\n    ]\\n)\\n\\n# Add back original energy star rating\\nscaled_train_w_original_energy_star_df = scaled_train_impute_energy_star_w_pca_optimal_df.merge(\\n    train_impute_energy_star_df[\\\"energy_star_rating\\\"], how=\\\"left\\\", left_index=True,\\n    right_index=True\\n)\\nscaled_test_w_original_energy_star_df = scaled_test_impute_energy_star_w_pca_optimal_df.merge(\\n    test_impute_energy_star_df[\\\"energy_star_rating\\\"], how=\\\"left\\\", left_index=True,\\n    right_index=True\\n)\";\n",
       "                var nbb_formatted_code = \"scaled_train_impute_energy_star_w_pca_optimal_df = pd.DataFrame(\\n    scaled_train_impute_energy_star_w_pca_optimal,\\n    columns=[\\n        f\\\"pca_{i}\\\"\\n        for i in range(scaled_train_impute_energy_star_w_pca_optimal.shape[1])\\n    ],\\n)\\n\\nscaled_test_impute_energy_star_w_pca_optimal_df = pd.DataFrame(\\n    scaled_test_impute_energy_star_w_pca_optimal,\\n    columns=[\\n        f\\\"pca_{i}\\\" for i in range(scaled_test_impute_energy_star_w_pca_optimal.shape[1])\\n    ],\\n)\\n\\n# Add back original energy star rating\\nscaled_train_w_original_energy_star_df = (\\n    scaled_train_impute_energy_star_w_pca_optimal_df.merge(\\n        train_impute_energy_star_df[\\\"energy_star_rating\\\"],\\n        how=\\\"left\\\",\\n        left_index=True,\\n        right_index=True,\\n    )\\n)\\nscaled_test_w_original_energy_star_df = (\\n    scaled_test_impute_energy_star_w_pca_optimal_df.merge(\\n        test_impute_energy_star_df[\\\"energy_star_rating\\\"],\\n        how=\\\"left\\\",\\n        left_index=True,\\n        right_index=True,\\n    )\\n)\";\n",
       "                var nbb_cells = Jupyter.notebook.get_cells();\n",
       "                for (var i = 0; i < nbb_cells.length; ++i) {\n",
       "                    if (nbb_cells[i].input_prompt_number == nbb_cell_id) {\n",
       "                        if (nbb_cells[i].get_text() == nbb_unformatted_code) {\n",
       "                             nbb_cells[i].set_text(nbb_formatted_code);\n",
       "                        }\n",
       "                        break;\n",
       "                    }\n",
       "                }\n",
       "            }, 500);\n",
       "            "
      ],
      "text/plain": [
       "<IPython.core.display.Javascript object>"
      ]
     },
     "metadata": {},
     "output_type": "display_data"
    }
   ],
   "source": [
    "scaled_train_impute_energy_star_w_pca_optimal_df = pd.DataFrame(\n",
    "    scaled_train_impute_energy_star_w_pca_optimal,\n",
    "    columns=[\n",
    "        f\"pca_{i}\"\n",
    "        for i in range(scaled_train_impute_energy_star_w_pca_optimal.shape[1])\n",
    "    ],\n",
    ")\n",
    "\n",
    "scaled_test_impute_energy_star_w_pca_optimal_df = pd.DataFrame(\n",
    "    scaled_test_impute_energy_star_w_pca_optimal,\n",
    "    columns=[\n",
    "        f\"pca_{i}\" for i in range(scaled_test_impute_energy_star_w_pca_optimal.shape[1])\n",
    "    ],\n",
    ")\n",
    "\n",
    "# Add back original energy star rating\n",
    "scaled_train_w_original_energy_star_df = (\n",
    "    scaled_train_impute_energy_star_w_pca_optimal_df.merge(\n",
    "        train_impute_energy_star_df[\"energy_star_rating\"],\n",
    "        how=\"left\",\n",
    "        left_index=True,\n",
    "        right_index=True,\n",
    "    )\n",
    ")\n",
    "scaled_test_w_original_energy_star_df = (\n",
    "    scaled_test_impute_energy_star_w_pca_optimal_df.merge(\n",
    "        test_impute_energy_star_df[\"energy_star_rating\"],\n",
    "        how=\"left\",\n",
    "        left_index=True,\n",
    "        right_index=True,\n",
    "    )\n",
    ")"
   ]
  },
  {
   "cell_type": "code",
   "execution_count": 13,
   "metadata": {
    "colab": {
     "base_uri": "https://localhost:8080/",
     "height": 423
    },
    "id": "KYT6mRUe-Gjj",
    "outputId": "1014dfc2-7d40-4b44-fe6c-2768d8e6e76d"
   },
   "outputs": [
    {
     "data": {
      "application/javascript": [
       "\n",
       "            setTimeout(function() {\n",
       "                var nbb_cell_id = 13;\n",
       "                var nbb_unformatted_code = \"# Get backfilled energy star rating using scikit-learn iterative imputer based on \\n# other features\\nrandom_state = 42\\nmax_iter = 10\\nimp = IterativeImputer(max_iter=max_iter, random_state=random_state)\\n# Fit the imputer on training\\nimp.fit(scaled_train_w_original_energy_star_df)\\n# Transform on train and test\\nscaled_train_w_original_energy_star_transformed_df = pd.DataFrame(\\n    imp.transform(scaled_train_w_original_energy_star_df),\\n    columns=scaled_train_w_original_energy_star_df.columns.tolist()\\n    )\\nscaled_test_w_original_energy_star_transformed_df = pd.DataFrame(\\n    imp.transform(scaled_test_w_original_energy_star_df),\\n    columns=scaled_test_w_original_energy_star_df.columns.tolist()\\n    )\";\n",
       "                var nbb_formatted_code = \"# Get backfilled energy star rating using scikit-learn iterative imputer based on\\n# other features\\nrandom_state = 42\\nmax_iter = 10\\nimp = IterativeImputer(max_iter=max_iter, random_state=random_state)\\n# Fit the imputer on training\\nimp.fit(scaled_train_w_original_energy_star_df)\\n# Transform on train and test\\nscaled_train_w_original_energy_star_transformed_df = pd.DataFrame(\\n    imp.transform(scaled_train_w_original_energy_star_df),\\n    columns=scaled_train_w_original_energy_star_df.columns.tolist(),\\n)\\nscaled_test_w_original_energy_star_transformed_df = pd.DataFrame(\\n    imp.transform(scaled_test_w_original_energy_star_df),\\n    columns=scaled_test_w_original_energy_star_df.columns.tolist(),\\n)\";\n",
       "                var nbb_cells = Jupyter.notebook.get_cells();\n",
       "                for (var i = 0; i < nbb_cells.length; ++i) {\n",
       "                    if (nbb_cells[i].input_prompt_number == nbb_cell_id) {\n",
       "                        if (nbb_cells[i].get_text() == nbb_unformatted_code) {\n",
       "                             nbb_cells[i].set_text(nbb_formatted_code);\n",
       "                        }\n",
       "                        break;\n",
       "                    }\n",
       "                }\n",
       "            }, 500);\n",
       "            "
      ],
      "text/plain": [
       "<IPython.core.display.Javascript object>"
      ]
     },
     "metadata": {},
     "output_type": "display_data"
    }
   ],
   "source": [
    "# Get backfilled energy star rating using scikit-learn iterative imputer based on \n",
    "# other features\n",
    "random_state = 42\n",
    "max_iter = 10\n",
    "imp = IterativeImputer(max_iter=max_iter, random_state=random_state)\n",
    "# Fit the imputer on training\n",
    "imp.fit(scaled_train_w_original_energy_star_df)\n",
    "# Transform on train and test\n",
    "scaled_train_w_original_energy_star_transformed_df = pd.DataFrame(\n",
    "    imp.transform(scaled_train_w_original_energy_star_df),\n",
    "    columns=scaled_train_w_original_energy_star_df.columns.tolist()\n",
    "    )\n",
    "scaled_test_w_original_energy_star_transformed_df = pd.DataFrame(\n",
    "    imp.transform(scaled_test_w_original_energy_star_df),\n",
    "    columns=scaled_test_w_original_energy_star_df.columns.tolist()\n",
    "    )\n"
   ]
  },
  {
   "cell_type": "markdown",
   "metadata": {
    "id": "w8IEl6PPZV3u"
   },
   "source": [
    "### Add imputed energy star with other processed columns"
   ]
  },
  {
   "cell_type": "code",
   "execution_count": 14,
   "metadata": {
    "colab": {
     "base_uri": "https://localhost:8080/",
     "height": 270
    },
    "id": "-xYOQb7QZOcl",
    "outputId": "e44909f5-9151-44ee-8cb9-5a640cc9d410"
   },
   "outputs": [
    {
     "data": {
      "text/html": [
       "<div>\n",
       "<style scoped>\n",
       "    .dataframe tbody tr th:only-of-type {\n",
       "        vertical-align: middle;\n",
       "    }\n",
       "\n",
       "    .dataframe tbody tr th {\n",
       "        vertical-align: top;\n",
       "    }\n",
       "\n",
       "    .dataframe thead th {\n",
       "        text-align: right;\n",
       "    }\n",
       "</style>\n",
       "<table border=\"1\" class=\"dataframe\">\n",
       "  <thead>\n",
       "    <tr style=\"text-align: right;\">\n",
       "      <th></th>\n",
       "      <th>year_factor</th>\n",
       "      <th>state_factor</th>\n",
       "      <th>building_class</th>\n",
       "      <th>facility_type</th>\n",
       "      <th>floor_area</th>\n",
       "      <th>year_built</th>\n",
       "      <th>energy_star_rating</th>\n",
       "      <th>elevation</th>\n",
       "      <th>january_min_temp</th>\n",
       "      <th>january_avg_temp</th>\n",
       "      <th>...</th>\n",
       "      <th>direction_peak_wind_speed</th>\n",
       "      <th>max_wind_speed</th>\n",
       "      <th>days_with_fog</th>\n",
       "      <th>site_eui</th>\n",
       "      <th>id</th>\n",
       "      <th>facility_type_parsed</th>\n",
       "      <th>direction_max_wind_speed_backfilled</th>\n",
       "      <th>backfilled_direction_max_wind_speed</th>\n",
       "      <th>categorized_direction_max_wind_speed</th>\n",
       "      <th>iter_impute_renergy_star_rating</th>\n",
       "    </tr>\n",
       "  </thead>\n",
       "  <tbody>\n",
       "    <tr>\n",
       "      <th>0</th>\n",
       "      <td>1</td>\n",
       "      <td>State_1</td>\n",
       "      <td>Commercial</td>\n",
       "      <td>Grocery_store_or_food_market</td>\n",
       "      <td>61242.0</td>\n",
       "      <td>1942.0</td>\n",
       "      <td>11.0</td>\n",
       "      <td>2.4</td>\n",
       "      <td>36</td>\n",
       "      <td>50.5</td>\n",
       "      <td>...</td>\n",
       "      <td>1.0</td>\n",
       "      <td>1.0</td>\n",
       "      <td>NaN</td>\n",
       "      <td>248.682615</td>\n",
       "      <td>0</td>\n",
       "      <td>Grocery</td>\n",
       "      <td>1.0</td>\n",
       "      <td>1.0</td>\n",
       "      <td>N</td>\n",
       "      <td>11.0</td>\n",
       "    </tr>\n",
       "    <tr>\n",
       "      <th>1</th>\n",
       "      <td>1</td>\n",
       "      <td>State_1</td>\n",
       "      <td>Commercial</td>\n",
       "      <td>Warehouse_Distribution_or_Shipping_center</td>\n",
       "      <td>274000.0</td>\n",
       "      <td>1955.0</td>\n",
       "      <td>45.0</td>\n",
       "      <td>1.8</td>\n",
       "      <td>36</td>\n",
       "      <td>50.5</td>\n",
       "      <td>...</td>\n",
       "      <td>NaN</td>\n",
       "      <td>1.0</td>\n",
       "      <td>12.0</td>\n",
       "      <td>26.500150</td>\n",
       "      <td>1</td>\n",
       "      <td>Warehouse</td>\n",
       "      <td>1.0</td>\n",
       "      <td>1.0</td>\n",
       "      <td>N</td>\n",
       "      <td>45.0</td>\n",
       "    </tr>\n",
       "    <tr>\n",
       "      <th>2</th>\n",
       "      <td>1</td>\n",
       "      <td>State_1</td>\n",
       "      <td>Commercial</td>\n",
       "      <td>Retail_Enclosed_mall</td>\n",
       "      <td>280025.0</td>\n",
       "      <td>1951.0</td>\n",
       "      <td>97.0</td>\n",
       "      <td>1.8</td>\n",
       "      <td>36</td>\n",
       "      <td>50.5</td>\n",
       "      <td>...</td>\n",
       "      <td>NaN</td>\n",
       "      <td>1.0</td>\n",
       "      <td>12.0</td>\n",
       "      <td>24.693619</td>\n",
       "      <td>2</td>\n",
       "      <td>Retail</td>\n",
       "      <td>1.0</td>\n",
       "      <td>1.0</td>\n",
       "      <td>N</td>\n",
       "      <td>97.0</td>\n",
       "    </tr>\n",
       "    <tr>\n",
       "      <th>3</th>\n",
       "      <td>1</td>\n",
       "      <td>State_1</td>\n",
       "      <td>Commercial</td>\n",
       "      <td>Education_Other_classroom</td>\n",
       "      <td>55325.0</td>\n",
       "      <td>1980.0</td>\n",
       "      <td>46.0</td>\n",
       "      <td>1.8</td>\n",
       "      <td>36</td>\n",
       "      <td>50.5</td>\n",
       "      <td>...</td>\n",
       "      <td>NaN</td>\n",
       "      <td>1.0</td>\n",
       "      <td>12.0</td>\n",
       "      <td>48.406926</td>\n",
       "      <td>3</td>\n",
       "      <td>Education</td>\n",
       "      <td>1.0</td>\n",
       "      <td>1.0</td>\n",
       "      <td>N</td>\n",
       "      <td>46.0</td>\n",
       "    </tr>\n",
       "    <tr>\n",
       "      <th>4</th>\n",
       "      <td>1</td>\n",
       "      <td>State_1</td>\n",
       "      <td>Commercial</td>\n",
       "      <td>Warehouse_Nonrefrigerated</td>\n",
       "      <td>66000.0</td>\n",
       "      <td>1985.0</td>\n",
       "      <td>100.0</td>\n",
       "      <td>2.4</td>\n",
       "      <td>36</td>\n",
       "      <td>50.5</td>\n",
       "      <td>...</td>\n",
       "      <td>1.0</td>\n",
       "      <td>1.0</td>\n",
       "      <td>NaN</td>\n",
       "      <td>3.899395</td>\n",
       "      <td>4</td>\n",
       "      <td>Warehouse</td>\n",
       "      <td>1.0</td>\n",
       "      <td>1.0</td>\n",
       "      <td>N</td>\n",
       "      <td>100.0</td>\n",
       "    </tr>\n",
       "  </tbody>\n",
       "</table>\n",
       "<p>5 rows × 69 columns</p>\n",
       "</div>"
      ],
      "text/plain": [
       "   year_factor state_factor building_class  \\\n",
       "0            1      State_1     Commercial   \n",
       "1            1      State_1     Commercial   \n",
       "2            1      State_1     Commercial   \n",
       "3            1      State_1     Commercial   \n",
       "4            1      State_1     Commercial   \n",
       "\n",
       "                               facility_type  floor_area  year_built  \\\n",
       "0               Grocery_store_or_food_market     61242.0      1942.0   \n",
       "1  Warehouse_Distribution_or_Shipping_center    274000.0      1955.0   \n",
       "2                       Retail_Enclosed_mall    280025.0      1951.0   \n",
       "3                  Education_Other_classroom     55325.0      1980.0   \n",
       "4                  Warehouse_Nonrefrigerated     66000.0      1985.0   \n",
       "\n",
       "   energy_star_rating  elevation  january_min_temp  january_avg_temp  ...  \\\n",
       "0                11.0        2.4                36              50.5  ...   \n",
       "1                45.0        1.8                36              50.5  ...   \n",
       "2                97.0        1.8                36              50.5  ...   \n",
       "3                46.0        1.8                36              50.5  ...   \n",
       "4               100.0        2.4                36              50.5  ...   \n",
       "\n",
       "   direction_peak_wind_speed  max_wind_speed  days_with_fog    site_eui  id  \\\n",
       "0                        1.0             1.0            NaN  248.682615   0   \n",
       "1                        NaN             1.0           12.0   26.500150   1   \n",
       "2                        NaN             1.0           12.0   24.693619   2   \n",
       "3                        NaN             1.0           12.0   48.406926   3   \n",
       "4                        1.0             1.0            NaN    3.899395   4   \n",
       "\n",
       "   facility_type_parsed  direction_max_wind_speed_backfilled  \\\n",
       "0               Grocery                                  1.0   \n",
       "1             Warehouse                                  1.0   \n",
       "2                Retail                                  1.0   \n",
       "3             Education                                  1.0   \n",
       "4             Warehouse                                  1.0   \n",
       "\n",
       "   backfilled_direction_max_wind_speed  categorized_direction_max_wind_speed  \\\n",
       "0                                  1.0                                     N   \n",
       "1                                  1.0                                     N   \n",
       "2                                  1.0                                     N   \n",
       "3                                  1.0                                     N   \n",
       "4                                  1.0                                     N   \n",
       "\n",
       "   iter_impute_renergy_star_rating  \n",
       "0                             11.0  \n",
       "1                             45.0  \n",
       "2                             97.0  \n",
       "3                             46.0  \n",
       "4                            100.0  \n",
       "\n",
       "[5 rows x 69 columns]"
      ]
     },
     "execution_count": 14,
     "metadata": {},
     "output_type": "execute_result"
    },
    {
     "data": {
      "application/javascript": [
       "\n",
       "            setTimeout(function() {\n",
       "                var nbb_cell_id = 14;\n",
       "                var nbb_unformatted_code = \"train_processed_df = train_w_categorized_max_wind_speed_df.merge(\\n    scaled_train_w_original_energy_star_transformed_df[[\\\"energy_star_rating\\\"]].rename(\\n        columns={\\\"energy_star_rating\\\": \\\"iter_impute_renergy_star_rating\\\"}\\n    ),\\n    how=\\\"left\\\",\\n    left_index=True, right_index=True\\n)\\ntest_processed_df = test_w_categorized_max_wind_speed_df.merge(\\n    scaled_test_w_original_energy_star_transformed_df[[\\\"energy_star_rating\\\"]].rename(\\n        columns={\\\"energy_star_rating\\\": \\\"iter_impute_renergy_star_rating\\\"}\\n    ),\\n    how=\\\"left\\\",\\n    left_index=True, right_index=True\\n)\\ntrain_processed_df.head()\";\n",
       "                var nbb_formatted_code = \"train_processed_df = train_w_categorized_max_wind_speed_df.merge(\\n    scaled_train_w_original_energy_star_transformed_df[[\\\"energy_star_rating\\\"]].rename(\\n        columns={\\\"energy_star_rating\\\": \\\"iter_impute_renergy_star_rating\\\"}\\n    ),\\n    how=\\\"left\\\",\\n    left_index=True,\\n    right_index=True,\\n)\\ntest_processed_df = test_w_categorized_max_wind_speed_df.merge(\\n    scaled_test_w_original_energy_star_transformed_df[[\\\"energy_star_rating\\\"]].rename(\\n        columns={\\\"energy_star_rating\\\": \\\"iter_impute_renergy_star_rating\\\"}\\n    ),\\n    how=\\\"left\\\",\\n    left_index=True,\\n    right_index=True,\\n)\\ntrain_processed_df.head()\";\n",
       "                var nbb_cells = Jupyter.notebook.get_cells();\n",
       "                for (var i = 0; i < nbb_cells.length; ++i) {\n",
       "                    if (nbb_cells[i].input_prompt_number == nbb_cell_id) {\n",
       "                        if (nbb_cells[i].get_text() == nbb_unformatted_code) {\n",
       "                             nbb_cells[i].set_text(nbb_formatted_code);\n",
       "                        }\n",
       "                        break;\n",
       "                    }\n",
       "                }\n",
       "            }, 500);\n",
       "            "
      ],
      "text/plain": [
       "<IPython.core.display.Javascript object>"
      ]
     },
     "metadata": {},
     "output_type": "display_data"
    }
   ],
   "source": [
    "train_processed_df = train_w_categorized_max_wind_speed_df.merge(\n",
    "    scaled_train_w_original_energy_star_transformed_df[[\"energy_star_rating\"]].rename(\n",
    "        columns={\"energy_star_rating\": \"iter_impute_renergy_star_rating\"}\n",
    "    ),\n",
    "    how=\"left\",\n",
    "    left_index=True,\n",
    "    right_index=True,\n",
    ")\n",
    "test_processed_df = test_w_categorized_max_wind_speed_df.merge(\n",
    "    scaled_test_w_original_energy_star_transformed_df[[\"energy_star_rating\"]].rename(\n",
    "        columns={\"energy_star_rating\": \"iter_impute_renergy_star_rating\"}\n",
    "    ),\n",
    "    how=\"left\",\n",
    "    left_index=True,\n",
    "    right_index=True,\n",
    ")\n",
    "train_processed_df.head()"
   ]
  },
  {
   "cell_type": "code",
   "execution_count": 15,
   "metadata": {
    "colab": {
     "base_uri": "https://localhost:8080/",
     "height": 17
    },
    "id": "h1yW31p0ZOr6",
    "outputId": "947fb976-c892-45c4-9cfa-188f07970e7d"
   },
   "outputs": [
    {
     "data": {
      "application/javascript": [
       "\n",
       "            setTimeout(function() {\n",
       "                var nbb_cell_id = 15;\n",
       "                var nbb_unformatted_code = \"seed = 0\\ndepth = 12\\n\\nmodel_dict = {\\n    \\\"catboost\\\": cb.CatBoostRegressor(\\n                loss_function=\\\"RMSE\\\",\\n                depth=depth,\\n                random_seed=seed,\\n                verbose=False,\\n                nan_mode=\\\"Min\\\",\\n            ),\\n    \\\"xgboost\\\": xgb.XGBRegressor(\\n        eval_metric= 'rmse', \\n        seed = seed, max_depth=3, n_estimators=100, \\n        booster='gbtree', n_jobs=-1,\\n        random_state=0, learning_rate=0.1)\\n\\n}\\n\\nmodel_type_dict = {\\n    \\\"catboost\\\": \\\"catboost\\\",\\n    \\\"xgboost\\\": \\\"sklearn\\\"\\n}\\n\\nfeature_dict = {\\n        \\\"log_temp_pca_onehot_iter_impute_star_parse_upsamplesmote_catboost\\\": {\\n        \\\"cols_to_reduce_dict\\\": {\\\"temp\\\": viz.temp_col_list},\\n        \\\"reduce_number_dict\\\": {\\\"temp\\\": 0},\\n        \\\"log10_transform_cols\\\": [\\\"floor_area\\\"],\\n        \\\"if_one_hot\\\": True,\\n        \\\"if_scale\\\": False,\\n        \\\"model\\\": \\\"catboost\\\",\\n        \\\"replace_original_feature_col_dict\\\": {\\n        \\\"energy_star_rating\\\": \\\"iter_impute_renergy_star_rating\\\", \\n        \\\"facility_type\\\": \\\"facility_type_parsed\\\",\\n        # \\\"direction_max_wind_speed\\\": \\\"categorized_direction_max_wind_speed\\\"\\n        },\\n\\n        \\\"drop_data\\\": {},\\n        \\\"resample_param_dict\\\": {\\\"up_or_downsample\\\": \\\"upsample\\\", \\n                                \\\"resample_by_col\\\": \\\"state_factor\\\", \\n                                \\\"resample_type\\\": \\\"smote\\\"}\\n    }}\\n\\nmodel_configs_to_run =[\\\"log_temp_pca_onehot_iter_impute_star_parse_upsamplesmote_catboost\\\"]\";\n",
       "                var nbb_formatted_code = \"seed = 0\\ndepth = 12\\n\\nmodel_dict = {\\n    \\\"catboost\\\": cb.CatBoostRegressor(\\n        loss_function=\\\"RMSE\\\",\\n        depth=depth,\\n        random_seed=seed,\\n        verbose=False,\\n        nan_mode=\\\"Min\\\",\\n    ),\\n    \\\"xgboost\\\": xgb.XGBRegressor(\\n        eval_metric=\\\"rmse\\\",\\n        seed=seed,\\n        max_depth=3,\\n        n_estimators=100,\\n        booster=\\\"gbtree\\\",\\n        n_jobs=-1,\\n        random_state=0,\\n        learning_rate=0.1,\\n    ),\\n}\\n\\nmodel_type_dict = {\\\"catboost\\\": \\\"catboost\\\", \\\"xgboost\\\": \\\"sklearn\\\"}\\n\\nfeature_dict = {\\n    \\\"log_temp_pca_onehot_iter_impute_star_parse_upsamplesmote_catboost\\\": {\\n        \\\"cols_to_reduce_dict\\\": {\\\"temp\\\": viz.temp_col_list},\\n        \\\"reduce_number_dict\\\": {\\\"temp\\\": 0},\\n        \\\"log10_transform_cols\\\": [\\\"floor_area\\\"],\\n        \\\"if_one_hot\\\": True,\\n        \\\"if_scale\\\": False,\\n        \\\"model\\\": \\\"catboost\\\",\\n        \\\"replace_original_feature_col_dict\\\": {\\n            \\\"energy_star_rating\\\": \\\"iter_impute_renergy_star_rating\\\",\\n            \\\"facility_type\\\": \\\"facility_type_parsed\\\",\\n            # \\\"direction_max_wind_speed\\\": \\\"categorized_direction_max_wind_speed\\\"\\n        },\\n        \\\"drop_data\\\": {},\\n        \\\"resample_param_dict\\\": {\\n            \\\"up_or_downsample\\\": \\\"upsample\\\",\\n            \\\"resample_by_col\\\": \\\"state_factor\\\",\\n            \\\"resample_type\\\": \\\"smote\\\",\\n        },\\n    }\\n}\\n\\nmodel_configs_to_run = [\\n    \\\"log_temp_pca_onehot_iter_impute_star_parse_upsamplesmote_catboost\\\"\\n]\";\n",
       "                var nbb_cells = Jupyter.notebook.get_cells();\n",
       "                for (var i = 0; i < nbb_cells.length; ++i) {\n",
       "                    if (nbb_cells[i].input_prompt_number == nbb_cell_id) {\n",
       "                        if (nbb_cells[i].get_text() == nbb_unformatted_code) {\n",
       "                             nbb_cells[i].set_text(nbb_formatted_code);\n",
       "                        }\n",
       "                        break;\n",
       "                    }\n",
       "                }\n",
       "            }, 500);\n",
       "            "
      ],
      "text/plain": [
       "<IPython.core.display.Javascript object>"
      ]
     },
     "metadata": {},
     "output_type": "display_data"
    }
   ],
   "source": [
    "seed = 0\n",
    "depth = 12\n",
    "\n",
    "model_dict = {\n",
    "    \"catboost\": cb.CatBoostRegressor(\n",
    "        loss_function=\"RMSE\",\n",
    "        depth=depth,\n",
    "        random_seed=seed,\n",
    "        verbose=False,\n",
    "        nan_mode=\"Min\",\n",
    "    ),\n",
    "    \"xgboost\": xgb.XGBRegressor(\n",
    "        eval_metric=\"rmse\",\n",
    "        seed=seed,\n",
    "        max_depth=3,\n",
    "        n_estimators=100,\n",
    "        booster=\"gbtree\",\n",
    "        n_jobs=-1,\n",
    "        random_state=0,\n",
    "        learning_rate=0.1,\n",
    "    ),\n",
    "}\n",
    "\n",
    "model_type_dict = {\"catboost\": \"catboost\", \"xgboost\": \"sklearn\"}\n",
    "\n",
    "feature_dict = {\n",
    "    \"log_temp_pca_onehot_iter_impute_star_parse_upsamplesmote_catboost\": {\n",
    "        \"cols_to_reduce_dict\": {\"temp\": viz.temp_col_list},\n",
    "        \"reduce_number_dict\": {\"temp\": 0},\n",
    "        \"log10_transform_cols\": [\"floor_area\"],\n",
    "        \"if_one_hot\": True,\n",
    "        \"if_scale\": False,\n",
    "        \"model\": \"catboost\",\n",
    "        \"replace_original_feature_col_dict\": {\n",
    "            \"energy_star_rating\": \"iter_impute_renergy_star_rating\",\n",
    "            \"facility_type\": \"facility_type_parsed\",\n",
    "            # \"direction_max_wind_speed\": \"categorized_direction_max_wind_speed\"\n",
    "        },\n",
    "        \"drop_data\": {},\n",
    "        \"resample_param_dict\": {\n",
    "            \"up_or_downsample\": \"upsample\",\n",
    "            \"resample_by_col\": \"state_factor\",\n",
    "            \"resample_type\": \"smote\",\n",
    "        },\n",
    "    }\n",
    "}\n",
    "\n",
    "model_configs_to_run = [\n",
    "    \"log_temp_pca_onehot_iter_impute_star_parse_upsamplesmote_catboost\"\n",
    "]"
   ]
  },
  {
   "cell_type": "code",
   "execution_count": 16,
   "metadata": {
    "colab": {
     "base_uri": "https://localhost:8080/",
     "height": 17
    },
    "id": "0gm6uYWgbq0P",
    "outputId": "2f56bfee-c824-484e-e079-00611757280b"
   },
   "outputs": [
    {
     "data": {
      "application/javascript": [
       "\n",
       "            setTimeout(function() {\n",
       "                var nbb_cell_id = 16;\n",
       "                var nbb_unformatted_code = \"train_filled_df = train_processed_df.copy()\\ntest_filled_df = test_processed_df.copy()\";\n",
       "                var nbb_formatted_code = \"train_filled_df = train_processed_df.copy()\\ntest_filled_df = test_processed_df.copy()\";\n",
       "                var nbb_cells = Jupyter.notebook.get_cells();\n",
       "                for (var i = 0; i < nbb_cells.length; ++i) {\n",
       "                    if (nbb_cells[i].input_prompt_number == nbb_cell_id) {\n",
       "                        if (nbb_cells[i].get_text() == nbb_unformatted_code) {\n",
       "                             nbb_cells[i].set_text(nbb_formatted_code);\n",
       "                        }\n",
       "                        break;\n",
       "                    }\n",
       "                }\n",
       "            }, 500);\n",
       "            "
      ],
      "text/plain": [
       "<IPython.core.display.Javascript object>"
      ]
     },
     "metadata": {},
     "output_type": "display_data"
    }
   ],
   "source": [
    "train_filled_df = train_processed_df.copy()\n",
    "test_filled_df = test_processed_df.copy()"
   ]
  },
  {
   "cell_type": "code",
   "execution_count": 17,
   "metadata": {
    "colab": {
     "background_save": true,
     "base_uri": "https://localhost:8080/",
     "height": 507
    },
    "id": "cHaAUxS0ZOyn",
    "outputId": "977108d8-f7db-45bb-fca6-507765ff1244"
   },
   "outputs": [
    {
     "name": "stdout",
     "output_type": "stream",
     "text": [
      "Fitting PCA with 9 components\n",
      "log_temp_pca_onehot_iter_impute_star_parse_upsamplesmote_catboost ['days_above_90f', 'days_below_10f', 'max_wind_speed', 'days_above_110f', 'snowdepth_inches', 'direction_max_wind_speed', 'days_below_30f', 'state_factor', 'precipitation_inches', 'elevation', 'cooling_degree_days', 'snowfall_inches', 'days_below_0f', 'days_above_100f', 'heating_degree_days', 'building_class', 'days_below_20f', 'year_built', 'days_above_80f', 'days_with_fog', 'direction_peak_wind_speed', 'temp_pca1', 'temp_pca2', 'temp_pca3', 'temp_pca4', 'temp_pca5', 'temp_pca6', 'temp_pca7', 'temp_pca8', 'temp_pca9', 'iter_impute_renergy_star_rating', 'facility_type_parsed', 'log10_floor_area'] True\n",
      "Running catboost\n",
      "Modeling 1...\n",
      "Modeling 2...\n",
      "Modeling 3...\n",
      "Modeling 4...\n",
      "Modeling 5...\n",
      "Modeling 6...\n",
      "Average RMSE:\n",
      "left_out_year     3.500000\n",
      "train_rmse       17.244938\n",
      "test_rmse        55.384514\n",
      "dtype: float64\n"
     ]
    },
    {
     "data": {
      "text/html": [
       "<div>\n",
       "<style scoped>\n",
       "    .dataframe tbody tr th:only-of-type {\n",
       "        vertical-align: middle;\n",
       "    }\n",
       "\n",
       "    .dataframe tbody tr th {\n",
       "        vertical-align: top;\n",
       "    }\n",
       "\n",
       "    .dataframe thead th {\n",
       "        text-align: right;\n",
       "    }\n",
       "</style>\n",
       "<table border=\"1\" class=\"dataframe\">\n",
       "  <thead>\n",
       "    <tr style=\"text-align: right;\">\n",
       "      <th></th>\n",
       "      <th>left_out_year</th>\n",
       "      <th>train_rmse</th>\n",
       "      <th>test_rmse</th>\n",
       "    </tr>\n",
       "  </thead>\n",
       "  <tbody>\n",
       "    <tr>\n",
       "      <th>0</th>\n",
       "      <td>1</td>\n",
       "      <td>17.806883</td>\n",
       "      <td>67.397333</td>\n",
       "    </tr>\n",
       "    <tr>\n",
       "      <th>1</th>\n",
       "      <td>2</td>\n",
       "      <td>16.424218</td>\n",
       "      <td>46.498981</td>\n",
       "    </tr>\n",
       "    <tr>\n",
       "      <th>2</th>\n",
       "      <td>3</td>\n",
       "      <td>17.931650</td>\n",
       "      <td>60.976550</td>\n",
       "    </tr>\n",
       "    <tr>\n",
       "      <th>3</th>\n",
       "      <td>4</td>\n",
       "      <td>17.816126</td>\n",
       "      <td>55.144646</td>\n",
       "    </tr>\n",
       "    <tr>\n",
       "      <th>4</th>\n",
       "      <td>5</td>\n",
       "      <td>17.109658</td>\n",
       "      <td>49.087078</td>\n",
       "    </tr>\n",
       "    <tr>\n",
       "      <th>5</th>\n",
       "      <td>6</td>\n",
       "      <td>16.381093</td>\n",
       "      <td>53.202495</td>\n",
       "    </tr>\n",
       "  </tbody>\n",
       "</table>\n",
       "</div>"
      ],
      "text/plain": [
       "   left_out_year  train_rmse  test_rmse\n",
       "0              1   17.806883  67.397333\n",
       "1              2   16.424218  46.498981\n",
       "2              3   17.931650  60.976550\n",
       "3              4   17.816126  55.144646\n",
       "4              5   17.109658  49.087078\n",
       "5              6   16.381093  53.202495"
      ]
     },
     "metadata": {},
     "output_type": "display_data"
    },
    {
     "name": "stdout",
     "output_type": "stream",
     "text": [
      "Whole data train RMSE: 26.5533038084134\n"
     ]
    },
    {
     "data": {
      "image/png": "[encoded data removed]",
      "text/plain": [
       "<Figure size 432x288 with 1 Axes>"
      ]
     },
     "metadata": {
      "needs_background": "light"
     },
     "output_type": "display_data"
    },
    {
     "data": {
      "application/javascript": [
       "\n",
       "            setTimeout(function() {\n",
       "                var nbb_cell_id = 17;\n",
       "                var nbb_unformatted_code = \"for config_name in model_configs_to_run:\\n    # get model config\\n    cols_to_reduce_dict = feature_dict[config_name][\\\"cols_to_reduce_dict\\\"]\\n    reduce_number_dict = feature_dict[config_name][\\\"reduce_number_dict\\\"]\\n    log10_transform_cols = feature_dict[config_name][\\\"log10_transform_cols\\\"]\\n    if_one_hot = feature_dict[config_name][\\\"if_one_hot\\\"]\\n    if_scale = feature_dict[config_name][\\\"if_scale\\\"]\\n    replace_original_feature_col_dict = feature_dict[config_name][\\\"replace_original_feature_col_dict\\\"]\\n    resample_param_dict = feature_dict[config_name][\\\"resample_param_dict\\\"]\\n    drop_data_dict = feature_dict[config_name][\\\"drop_data\\\"]\\n    model_name = feature_dict[config_name][\\\"model\\\"]\\n    model = model_dict[model_name]\\n    # check if need to drop data\\n    if len(drop_data_dict) > 0:\\n        for one_col, drop_level_list in drop_data_dict.items():\\n            train_filled_df = train_filled_df.query(f\\\"{one_col} not in {drop_level_list}\\\")\\n    # process data\\n    train_filter_df, test_filter_df, pca_cols = du.process_data_v1(\\n        train_filled_df.drop_duplicates(),\\n        test_filled_df.drop_duplicates(),\\n        reduce_col_dict = cols_to_reduce_dict,\\n        cols_to_log_transform = log10_transform_cols,\\n        reduce_number_dict = reduce_number_dict,\\n    )\\n    # Set feature columns after data transformations\\n    all_cols_to_reduce = []\\n    for _, one_set_col_to_reduce in cols_to_reduce_dict.items():\\n        all_cols_to_reduce = all_cols_to_reduce + one_set_col_to_reduce\\n\\n    all_cols_to_drop = []\\n    all_cols_to_replace_from_drop = []\\n    for col_to_drop, col_to_replace in replace_original_feature_col_dict.items():\\n        all_cols_to_drop.append(col_to_drop)\\n        all_cols_to_replace_from_drop.append(col_to_replace)\\n\\n    features_columns = (\\n        list(set(gv.all_feature_columns) - set(all_cols_to_reduce) - set(log10_transform_cols) - set(all_cols_to_drop))\\n        + pca_cols\\n        + all_cols_to_replace_from_drop\\n        + [f\\\"log10_{col}\\\" for col in log10_transform_cols]\\n    )\\n    print(config_name, features_columns, if_one_hot)\\n\\n    # run model\\n    ## Run LOY model\\n    model_rmse = mu.run_leave_year_out(\\n        model_df=train_filter_df,\\n        ml_model=model,\\n        features_columns=features_columns,\\n        if_scale_data=if_scale,\\n        if_one_hot=if_one_hot,\\n        model_type=model_type_dict[model_name],\\n        resample_param_dict = resample_param_dict\\n    )\\n    print(f\\\"Average RMSE:\\\\n{model_rmse.mean()}\\\")\\n    display(model_rmse)\\n\\n    ## predict on test data\\n    if len(resample_param_dict) > 0:\\n        train_for_resample_df = train_filter_df\\n        resample_by_col = resample_param_dict[\\\"resample_by_col\\\"]\\n        resample_type = resample_param_dict[\\\"resample_type\\\"]\\n        if resample_param_dict[\\\"up_or_downsample\\\"] == \\\"upsample\\\":\\n            train_filter_x_df = mu.upsampling_by_column(\\n                train_for_resample_df, resample_by_col, resample_type=resample_type\\n            )\\n        elif resample_param_dict[\\\"up_or_downsample\\\"] == \\\"downsample\\\":\\n            train_filter_x_df = mu.downsampling_by_column(\\n                train_for_resample_df, resample_by_col, resample_type=resample_type\\n            )\\n        \\n    train_filter_x_df, train_filter_y_df = mu.split_model_feature_response(\\n        train_filter_df, features_columns\\n    )\\n    test_filter_x_df = mu.split_model_feature_response(\\n        test_filter_df, features_columns, if_with_response=False\\n    )\\n    processed_train_x_df, processed_test_x_df = mu.process_train_test_data(\\n        train_filter_x_df, test_filter_x_df, if_scale, if_one_hot, full_data_df = train_filter_x_df\\n    )\\n    run_model_dict = {\\\"xgboost\\\": mu.run_sklearn_model, \\\"catboost\\\": mu.run_catboost_model}\\n    train_predict, test_predict, fitted_model = run_model_dict[model_name](\\n            model, processed_train_x_df, train_filter_y_df, processed_test_x_df\\n        )\\n    training_rmse = mu.calculate_rmse(train_filter_y_df, train_predict)\\n    print(f\\\"Whole data train RMSE: {training_rmse}\\\")\";\n",
       "                var nbb_formatted_code = \"for config_name in model_configs_to_run:\\n    # get model config\\n    cols_to_reduce_dict = feature_dict[config_name][\\\"cols_to_reduce_dict\\\"]\\n    reduce_number_dict = feature_dict[config_name][\\\"reduce_number_dict\\\"]\\n    log10_transform_cols = feature_dict[config_name][\\\"log10_transform_cols\\\"]\\n    if_one_hot = feature_dict[config_name][\\\"if_one_hot\\\"]\\n    if_scale = feature_dict[config_name][\\\"if_scale\\\"]\\n    replace_original_feature_col_dict = feature_dict[config_name][\\n        \\\"replace_original_feature_col_dict\\\"\\n    ]\\n    resample_param_dict = feature_dict[config_name][\\\"resample_param_dict\\\"]\\n    drop_data_dict = feature_dict[config_name][\\\"drop_data\\\"]\\n    model_name = feature_dict[config_name][\\\"model\\\"]\\n    model = model_dict[model_name]\\n    # check if need to drop data\\n    if len(drop_data_dict) > 0:\\n        for one_col, drop_level_list in drop_data_dict.items():\\n            train_filled_df = train_filled_df.query(\\n                f\\\"{one_col} not in {drop_level_list}\\\"\\n            )\\n    # process data\\n    train_filter_df, test_filter_df, pca_cols = du.process_data_v1(\\n        train_filled_df.drop_duplicates(),\\n        test_filled_df.drop_duplicates(),\\n        reduce_col_dict=cols_to_reduce_dict,\\n        cols_to_log_transform=log10_transform_cols,\\n        reduce_number_dict=reduce_number_dict,\\n    )\\n    # Set feature columns after data transformations\\n    all_cols_to_reduce = []\\n    for _, one_set_col_to_reduce in cols_to_reduce_dict.items():\\n        all_cols_to_reduce = all_cols_to_reduce + one_set_col_to_reduce\\n\\n    all_cols_to_drop = []\\n    all_cols_to_replace_from_drop = []\\n    for col_to_drop, col_to_replace in replace_original_feature_col_dict.items():\\n        all_cols_to_drop.append(col_to_drop)\\n        all_cols_to_replace_from_drop.append(col_to_replace)\\n\\n    features_columns = (\\n        list(\\n            set(gv.all_feature_columns)\\n            - set(all_cols_to_reduce)\\n            - set(log10_transform_cols)\\n            - set(all_cols_to_drop)\\n        )\\n        + pca_cols\\n        + all_cols_to_replace_from_drop\\n        + [f\\\"log10_{col}\\\" for col in log10_transform_cols]\\n    )\\n    print(config_name, features_columns, if_one_hot)\\n\\n    # run model\\n    ## Run LOY model\\n    model_rmse = mu.run_leave_year_out(\\n        model_df=train_filter_df,\\n        ml_model=model,\\n        features_columns=features_columns,\\n        if_scale_data=if_scale,\\n        if_one_hot=if_one_hot,\\n        model_type=model_type_dict[model_name],\\n        resample_param_dict=resample_param_dict,\\n    )\\n    print(f\\\"Average RMSE:\\\\n{model_rmse.mean()}\\\")\\n    display(model_rmse)\\n\\n    ## predict on test data\\n    if len(resample_param_dict) > 0:\\n        train_for_resample_df = train_filter_df\\n        resample_by_col = resample_param_dict[\\\"resample_by_col\\\"]\\n        resample_type = resample_param_dict[\\\"resample_type\\\"]\\n        if resample_param_dict[\\\"up_or_downsample\\\"] == \\\"upsample\\\":\\n            train_filter_x_df = mu.upsampling_by_column(\\n                train_for_resample_df, resample_by_col, resample_type=resample_type\\n            )\\n        elif resample_param_dict[\\\"up_or_downsample\\\"] == \\\"downsample\\\":\\n            train_filter_x_df = mu.downsampling_by_column(\\n                train_for_resample_df, resample_by_col, resample_type=resample_type\\n            )\\n\\n    train_filter_x_df, train_filter_y_df = mu.split_model_feature_response(\\n        train_filter_df, features_columns\\n    )\\n    test_filter_x_df = mu.split_model_feature_response(\\n        test_filter_df, features_columns, if_with_response=False\\n    )\\n    processed_train_x_df, processed_test_x_df = mu.process_train_test_data(\\n        train_filter_x_df,\\n        test_filter_x_df,\\n        if_scale,\\n        if_one_hot,\\n        full_data_df=train_filter_x_df,\\n    )\\n    run_model_dict = {\\n        \\\"xgboost\\\": mu.run_sklearn_model,\\n        \\\"catboost\\\": mu.run_catboost_model,\\n    }\\n    train_predict, test_predict, fitted_model = run_model_dict[model_name](\\n        model, processed_train_x_df, train_filter_y_df, processed_test_x_df\\n    )\\n    training_rmse = mu.calculate_rmse(train_filter_y_df, train_predict)\\n    print(f\\\"Whole data train RMSE: {training_rmse}\\\")\";\n",
       "                var nbb_cells = Jupyter.notebook.get_cells();\n",
       "                for (var i = 0; i < nbb_cells.length; ++i) {\n",
       "                    if (nbb_cells[i].input_prompt_number == nbb_cell_id) {\n",
       "                        if (nbb_cells[i].get_text() == nbb_unformatted_code) {\n",
       "                             nbb_cells[i].set_text(nbb_formatted_code);\n",
       "                        }\n",
       "                        break;\n",
       "                    }\n",
       "                }\n",
       "            }, 500);\n",
       "            "
      ],
      "text/plain": [
       "<IPython.core.display.Javascript object>"
      ]
     },
     "metadata": {},
     "output_type": "display_data"
    }
   ],
   "source": [
    "for config_name in model_configs_to_run:\n",
    "    # get model config\n",
    "    cols_to_reduce_dict = feature_dict[config_name][\"cols_to_reduce_dict\"]\n",
    "    reduce_number_dict = feature_dict[config_name][\"reduce_number_dict\"]\n",
    "    log10_transform_cols = feature_dict[config_name][\"log10_transform_cols\"]\n",
    "    if_one_hot = feature_dict[config_name][\"if_one_hot\"]\n",
    "    if_scale = feature_dict[config_name][\"if_scale\"]\n",
    "    replace_original_feature_col_dict = feature_dict[config_name][\n",
    "        \"replace_original_feature_col_dict\"\n",
    "    ]\n",
    "    resample_param_dict = feature_dict[config_name][\"resample_param_dict\"]\n",
    "    drop_data_dict = feature_dict[config_name][\"drop_data\"]\n",
    "    model_name = feature_dict[config_name][\"model\"]\n",
    "    model = model_dict[model_name]\n",
    "    # check if need to drop data\n",
    "    if len(drop_data_dict) > 0:\n",
    "        for one_col, drop_level_list in drop_data_dict.items():\n",
    "            train_filled_df = train_filled_df.query(\n",
    "                f\"{one_col} not in {drop_level_list}\"\n",
    "            )\n",
    "    # process data\n",
    "    train_filter_df, test_filter_df, pca_cols = du.process_data_v1(\n",
    "        train_filled_df.drop_duplicates(),\n",
    "        test_filled_df.drop_duplicates(),\n",
    "        reduce_col_dict=cols_to_reduce_dict,\n",
    "        cols_to_log_transform=log10_transform_cols,\n",
    "        reduce_number_dict=reduce_number_dict,\n",
    "    )\n",
    "    # Set feature columns after data transformations\n",
    "    all_cols_to_reduce = []\n",
    "    for _, one_set_col_to_reduce in cols_to_reduce_dict.items():\n",
    "        all_cols_to_reduce = all_cols_to_reduce + one_set_col_to_reduce\n",
    "\n",
    "    all_cols_to_drop = []\n",
    "    all_cols_to_replace_from_drop = []\n",
    "    for col_to_drop, col_to_replace in replace_original_feature_col_dict.items():\n",
    "        all_cols_to_drop.append(col_to_drop)\n",
    "        all_cols_to_replace_from_drop.append(col_to_replace)\n",
    "\n",
    "    features_columns = (\n",
    "        list(\n",
    "            set(gv.all_feature_columns)\n",
    "            - set(all_cols_to_reduce)\n",
    "            - set(log10_transform_cols)\n",
    "            - set(all_cols_to_drop)\n",
    "        )\n",
    "        + pca_cols\n",
    "        + all_cols_to_replace_from_drop\n",
    "        + [f\"log10_{col}\" for col in log10_transform_cols]\n",
    "    )\n",
    "    print(config_name, features_columns, if_one_hot)\n",
    "\n",
    "    # run model\n",
    "    ## Run LOY model\n",
    "    model_rmse = mu.run_leave_year_out(\n",
    "        model_df=train_filter_df,\n",
    "        ml_model=model,\n",
    "        features_columns=features_columns,\n",
    "        if_scale_data=if_scale,\n",
    "        if_one_hot=if_one_hot,\n",
    "        model_type=model_type_dict[model_name],\n",
    "        resample_param_dict=resample_param_dict,\n",
    "    )\n",
    "    print(f\"Average RMSE:\\n{model_rmse.mean()}\")\n",
    "    display(model_rmse)\n",
    "\n",
    "    ## predict on test data\n",
    "    if len(resample_param_dict) > 0:\n",
    "        train_for_resample_df = train_filter_df\n",
    "        resample_by_col = resample_param_dict[\"resample_by_col\"]\n",
    "        resample_type = resample_param_dict[\"resample_type\"]\n",
    "        if resample_param_dict[\"up_or_downsample\"] == \"upsample\":\n",
    "            train_filter_x_df = mu.upsampling_by_column(\n",
    "                train_for_resample_df, resample_by_col, resample_type=resample_type\n",
    "            )\n",
    "        elif resample_param_dict[\"up_or_downsample\"] == \"downsample\":\n",
    "            train_filter_x_df = mu.downsampling_by_column(\n",
    "                train_for_resample_df, resample_by_col, resample_type=resample_type\n",
    "            )\n",
    "\n",
    "    train_filter_x_df, train_filter_y_df = mu.split_model_feature_response(\n",
    "        train_filter_df, features_columns\n",
    "    )\n",
    "    test_filter_x_df = mu.split_model_feature_response(\n",
    "        test_filter_df, features_columns, if_with_response=False\n",
    "    )\n",
    "    processed_train_x_df, processed_test_x_df = mu.process_train_test_data(\n",
    "        train_filter_x_df,\n",
    "        test_filter_x_df,\n",
    "        if_scale,\n",
    "        if_one_hot,\n",
    "        full_data_df=train_filter_x_df,\n",
    "    )\n",
    "    run_model_dict = {\n",
    "        \"xgboost\": mu.run_sklearn_model,\n",
    "        \"catboost\": mu.run_catboost_model,\n",
    "    }\n",
    "    train_predict, test_predict, fitted_model = run_model_dict[model_name](\n",
    "        model, processed_train_x_df, train_filter_y_df, processed_test_x_df\n",
    "    )\n",
    "    training_rmse = mu.calculate_rmse(train_filter_y_df, train_predict)\n",
    "    print(f\"Whole data train RMSE: {training_rmse}\")"
   ]
  },
  {
   "cell_type": "markdown",
   "metadata": {},
   "source": [
    "### Save output result"
   ]
  },
  {
   "cell_type": "code",
   "execution_count": 23,
   "metadata": {
    "colab": {
     "base_uri": "https://localhost:8080/",
     "height": 124
    },
    "id": "SSK0qcFtbjNW",
    "outputId": "d74d34a2-e83c-4219-efab-1ee7e0f98f14"
   },
   "outputs": [
    {
     "data": {
      "text/html": [
       "<div>\n",
       "<style scoped>\n",
       "    .dataframe tbody tr th:only-of-type {\n",
       "        vertical-align: middle;\n",
       "    }\n",
       "\n",
       "    .dataframe tbody tr th {\n",
       "        vertical-align: top;\n",
       "    }\n",
       "\n",
       "    .dataframe thead th {\n",
       "        text-align: right;\n",
       "    }\n",
       "</style>\n",
       "<table border=\"1\" class=\"dataframe\">\n",
       "  <thead>\n",
       "    <tr style=\"text-align: right;\">\n",
       "      <th></th>\n",
       "      <th>left_out_year</th>\n",
       "      <th>train_rmse</th>\n",
       "      <th>test_rmse</th>\n",
       "      <th>method</th>\n",
       "    </tr>\n",
       "  </thead>\n",
       "  <tbody>\n",
       "    <tr>\n",
       "      <th>0</th>\n",
       "      <td>1.0</td>\n",
       "      <td>17.806883</td>\n",
       "      <td>67.397333</td>\n",
       "      <td>loyo</td>\n",
       "    </tr>\n",
       "    <tr>\n",
       "      <th>1</th>\n",
       "      <td>2.0</td>\n",
       "      <td>16.424218</td>\n",
       "      <td>46.498981</td>\n",
       "      <td>loyo</td>\n",
       "    </tr>\n",
       "    <tr>\n",
       "      <th>2</th>\n",
       "      <td>3.0</td>\n",
       "      <td>17.931650</td>\n",
       "      <td>60.976550</td>\n",
       "      <td>loyo</td>\n",
       "    </tr>\n",
       "    <tr>\n",
       "      <th>3</th>\n",
       "      <td>4.0</td>\n",
       "      <td>17.816126</td>\n",
       "      <td>55.144646</td>\n",
       "      <td>loyo</td>\n",
       "    </tr>\n",
       "    <tr>\n",
       "      <th>4</th>\n",
       "      <td>5.0</td>\n",
       "      <td>17.109658</td>\n",
       "      <td>49.087078</td>\n",
       "      <td>loyo</td>\n",
       "    </tr>\n",
       "    <tr>\n",
       "      <th>5</th>\n",
       "      <td>6.0</td>\n",
       "      <td>16.381093</td>\n",
       "      <td>53.202495</td>\n",
       "      <td>loyo</td>\n",
       "    </tr>\n",
       "    <tr>\n",
       "      <th>6</th>\n",
       "      <td>0.0</td>\n",
       "      <td>26.553304</td>\n",
       "      <td>NaN</td>\n",
       "      <td>whole train</td>\n",
       "    </tr>\n",
       "    <tr>\n",
       "      <th>7</th>\n",
       "      <td>NaN</td>\n",
       "      <td>NaN</td>\n",
       "      <td>NaN</td>\n",
       "      <td>whole train</td>\n",
       "    </tr>\n",
       "  </tbody>\n",
       "</table>\n",
       "</div>"
      ],
      "text/plain": [
       "   left_out_year  train_rmse  test_rmse       method\n",
       "0            1.0   17.806883  67.397333         loyo\n",
       "1            2.0   16.424218  46.498981         loyo\n",
       "2            3.0   17.931650  60.976550         loyo\n",
       "3            4.0   17.816126  55.144646         loyo\n",
       "4            5.0   17.109658  49.087078         loyo\n",
       "5            6.0   16.381093  53.202495         loyo\n",
       "6            0.0   26.553304        NaN  whole train\n",
       "7            NaN         NaN        NaN  whole train"
      ]
     },
     "metadata": {},
     "output_type": "display_data"
    },
    {
     "name": "stdout",
     "output_type": "stream",
     "text": [
      "Average RMSE:\n",
      "left_out_year     3.500000\n",
      "train_rmse       17.244938\n",
      "test_rmse        55.384514\n",
      "dtype: float64\n"
     ]
    },
    {
     "data": {
      "text/html": [
       "<div>\n",
       "<style scoped>\n",
       "    .dataframe tbody tr th:only-of-type {\n",
       "        vertical-align: middle;\n",
       "    }\n",
       "\n",
       "    .dataframe tbody tr th {\n",
       "        vertical-align: top;\n",
       "    }\n",
       "\n",
       "    .dataframe thead th {\n",
       "        text-align: right;\n",
       "    }\n",
       "</style>\n",
       "<table border=\"1\" class=\"dataframe\">\n",
       "  <thead>\n",
       "    <tr style=\"text-align: right;\">\n",
       "      <th></th>\n",
       "      <th>left_out_year</th>\n",
       "      <th>train_rmse</th>\n",
       "      <th>test_rmse</th>\n",
       "      <th>method</th>\n",
       "    </tr>\n",
       "  </thead>\n",
       "  <tbody>\n",
       "    <tr>\n",
       "      <th>0</th>\n",
       "      <td>1.0</td>\n",
       "      <td>17.806883</td>\n",
       "      <td>67.397333</td>\n",
       "      <td>loyo</td>\n",
       "    </tr>\n",
       "    <tr>\n",
       "      <th>1</th>\n",
       "      <td>2.0</td>\n",
       "      <td>16.424218</td>\n",
       "      <td>46.498981</td>\n",
       "      <td>loyo</td>\n",
       "    </tr>\n",
       "    <tr>\n",
       "      <th>2</th>\n",
       "      <td>3.0</td>\n",
       "      <td>17.931650</td>\n",
       "      <td>60.976550</td>\n",
       "      <td>loyo</td>\n",
       "    </tr>\n",
       "    <tr>\n",
       "      <th>3</th>\n",
       "      <td>4.0</td>\n",
       "      <td>17.816126</td>\n",
       "      <td>55.144646</td>\n",
       "      <td>loyo</td>\n",
       "    </tr>\n",
       "    <tr>\n",
       "      <th>4</th>\n",
       "      <td>5.0</td>\n",
       "      <td>17.109658</td>\n",
       "      <td>49.087078</td>\n",
       "      <td>loyo</td>\n",
       "    </tr>\n",
       "    <tr>\n",
       "      <th>5</th>\n",
       "      <td>6.0</td>\n",
       "      <td>16.381093</td>\n",
       "      <td>53.202495</td>\n",
       "      <td>loyo</td>\n",
       "    </tr>\n",
       "    <tr>\n",
       "      <th>6</th>\n",
       "      <td>0.0</td>\n",
       "      <td>26.553304</td>\n",
       "      <td>NaN</td>\n",
       "      <td>whole train</td>\n",
       "    </tr>\n",
       "    <tr>\n",
       "      <th>7</th>\n",
       "      <td>NaN</td>\n",
       "      <td>NaN</td>\n",
       "      <td>NaN</td>\n",
       "      <td>whole train</td>\n",
       "    </tr>\n",
       "  </tbody>\n",
       "</table>\n",
       "</div>"
      ],
      "text/plain": [
       "   left_out_year  train_rmse  test_rmse       method\n",
       "0            1.0   17.806883  67.397333         loyo\n",
       "1            2.0   16.424218  46.498981         loyo\n",
       "2            3.0   17.931650  60.976550         loyo\n",
       "3            4.0   17.816126  55.144646         loyo\n",
       "4            5.0   17.109658  49.087078         loyo\n",
       "5            6.0   16.381093  53.202495         loyo\n",
       "6            0.0   26.553304        NaN  whole train\n",
       "7            NaN         NaN        NaN  whole train"
      ]
     },
     "metadata": {},
     "output_type": "display_data"
    },
    {
     "name": "stderr",
     "output_type": "stream",
     "text": [
      "/Users/mengzhao/opt/miniconda3/envs/ds_challenge/lib/python3.7/site-packages/ipykernel_launcher.py:12: SettingWithCopyWarning: \n",
      "A value is trying to be set on a copy of a slice from a DataFrame.\n",
      "Try using .loc[row_indexer,col_indexer] = value instead\n",
      "\n",
      "See the caveats in the documentation: https://pandas.pydata.org/pandas-docs/stable/user_guide/indexing.html#returning-a-view-versus-a-copy\n",
      "  if sys.path[0] == '':\n"
     ]
    },
    {
     "data": {
      "application/javascript": [
       "\n",
       "            setTimeout(function() {\n",
       "                var nbb_cell_id = 23;\n",
       "                var nbb_unformatted_code = \"# model_rmse.loc[model_rmse.shape[0], :] = [0, training_rmse, np.nan]\\nmodel_rmse[\\\"method\\\"] = model_rmse[\\\"left_out_year\\\"].apply(\\n    lambda x: \\\"loyo\\\" if x > 0 else \\\"whole train\\\"\\n)\\ndisplay(model_rmse)\\n# model_rmse.to_csv(f\\\"{wids_path}prediction_result/meng/{config_name}.csv\\\", index=False)\\n\\nprint(f\\\"Average RMSE:\\\\n{model_rmse.query('left_out_year != 0').mean()}\\\")\\ndisplay(model_rmse)\\n\\ntest_prediction_result = test_df[[\\\"id\\\"]]\\ntest_prediction_result[\\\"site_eui\\\"] = test_predict\\ntest_prediction_result.to_csv(\\n    f\\\"{wids_path}prediction_result/meng/{config_name}.csv\\\", index=False\\n)\\n\\n# if model_name == \\\"catboost\\\":\\n#     viz.plot_catboost_feature_importance(model)\\n#     plt.savefig(\\n#         f\\\"{wids_path}/validation_result/hannah/{config_name}_feature_importance.png\\\"\\n#     )\\n#     plt.close()\\n# elif model_name == \\\"xgboost\\\":\\n#     fig, ax = plt.subplots(figsize=(15, 20))\\n#     xgb.plot_importance(fitted_model, ax=ax)\\n#     plt.savefig(\\n#         f\\\"{wids_path}/validation_result/hannah/{config_name}_feature_importance.png\\\"\\n#     )\\n#     plt.close()\\n\\n\\n# rmse_df = du.get_rmse_by_group(\\n#     train_filter_x_df.rename(\\n#         columns={\\\"backfilled_energy_star_rating\\\": \\\"energy_star_rating\\\", \\\"backfilled_energy_star_rating_v1\\\": \\\"energy_star_rating\\\", \\\"facility_type_parsed\\\": \\\"facility_type\\\"}\\n#     ),\\n#     train_filter_y_df,\\n#     train_predict,\\n# )\\n# viz.plot_rmse_by_group(rmse_df)\\n# plt.savefig(\\n#     f\\\"{wids_path}/validation_result/hannah/{config_name}_rmse_by_group.png\\\"\\n# )\\n# plt.close()\";\n",
       "                var nbb_formatted_code = \"# model_rmse.loc[model_rmse.shape[0], :] = [0, training_rmse, np.nan]\\nmodel_rmse[\\\"method\\\"] = model_rmse[\\\"left_out_year\\\"].apply(\\n    lambda x: \\\"loyo\\\" if x > 0 else \\\"whole train\\\"\\n)\\ndisplay(model_rmse)\\n# model_rmse.to_csv(f\\\"{wids_path}prediction_result/meng/{config_name}.csv\\\", index=False)\\n\\nprint(f\\\"Average RMSE:\\\\n{model_rmse.query('left_out_year != 0').mean()}\\\")\\ndisplay(model_rmse)\\n\\ntest_prediction_result = test_df[[\\\"id\\\"]]\\ntest_prediction_result[\\\"site_eui\\\"] = test_predict\\ntest_prediction_result.to_csv(\\n    f\\\"{wids_path}prediction_result/meng/{config_name}.csv\\\", index=False\\n)\\n\\n# if model_name == \\\"catboost\\\":\\n#     viz.plot_catboost_feature_importance(model)\\n#     plt.savefig(\\n#         f\\\"{wids_path}/validation_result/hannah/{config_name}_feature_importance.png\\\"\\n#     )\\n#     plt.close()\\n# elif model_name == \\\"xgboost\\\":\\n#     fig, ax = plt.subplots(figsize=(15, 20))\\n#     xgb.plot_importance(fitted_model, ax=ax)\\n#     plt.savefig(\\n#         f\\\"{wids_path}/validation_result/hannah/{config_name}_feature_importance.png\\\"\\n#     )\\n#     plt.close()\\n\\n\\n# rmse_df = du.get_rmse_by_group(\\n#     train_filter_x_df.rename(\\n#         columns={\\\"backfilled_energy_star_rating\\\": \\\"energy_star_rating\\\", \\\"backfilled_energy_star_rating_v1\\\": \\\"energy_star_rating\\\", \\\"facility_type_parsed\\\": \\\"facility_type\\\"}\\n#     ),\\n#     train_filter_y_df,\\n#     train_predict,\\n# )\\n# viz.plot_rmse_by_group(rmse_df)\\n# plt.savefig(\\n#     f\\\"{wids_path}/validation_result/hannah/{config_name}_rmse_by_group.png\\\"\\n# )\\n# plt.close()\";\n",
       "                var nbb_cells = Jupyter.notebook.get_cells();\n",
       "                for (var i = 0; i < nbb_cells.length; ++i) {\n",
       "                    if (nbb_cells[i].input_prompt_number == nbb_cell_id) {\n",
       "                        if (nbb_cells[i].get_text() == nbb_unformatted_code) {\n",
       "                             nbb_cells[i].set_text(nbb_formatted_code);\n",
       "                        }\n",
       "                        break;\n",
       "                    }\n",
       "                }\n",
       "            }, 500);\n",
       "            "
      ],
      "text/plain": [
       "<IPython.core.display.Javascript object>"
      ]
     },
     "metadata": {},
     "output_type": "display_data"
    }
   ],
   "source": [
    "# model_rmse.loc[model_rmse.shape[0], :] = [0, training_rmse, np.nan]\n",
    "model_rmse[\"method\"] = model_rmse[\"left_out_year\"].apply(\n",
    "    lambda x: \"loyo\" if x > 0 else \"whole train\"\n",
    ")\n",
    "display(model_rmse)\n",
    "# model_rmse.to_csv(f\"{wids_path}prediction_result/meng/{config_name}.csv\", index=False)\n",
    "\n",
    "print(f\"Average RMSE:\\n{model_rmse.query('left_out_year != 0').mean()}\")\n",
    "display(model_rmse)\n",
    "\n",
    "test_prediction_result = test_df[[\"id\"]]\n",
    "test_prediction_result[\"site_eui\"] = test_predict\n",
    "test_prediction_result.to_csv(\n",
    "    f\"{wids_path}prediction_result/meng/{config_name}.csv\", index=False\n",
    ")\n",
    "\n",
    "# if model_name == \"catboost\":\n",
    "#     viz.plot_catboost_feature_importance(model)\n",
    "#     plt.savefig(\n",
    "#         f\"{wids_path}/validation_result/hannah/{config_name}_feature_importance.png\"\n",
    "#     )\n",
    "#     plt.close()\n",
    "# elif model_name == \"xgboost\":\n",
    "#     fig, ax = plt.subplots(figsize=(15, 20))\n",
    "#     xgb.plot_importance(fitted_model, ax=ax)\n",
    "#     plt.savefig(\n",
    "#         f\"{wids_path}/validation_result/hannah/{config_name}_feature_importance.png\"\n",
    "#     )\n",
    "#     plt.close()\n",
    "\n",
    "\n",
    "# rmse_df = du.get_rmse_by_group(\n",
    "#     train_filter_x_df.rename(\n",
    "#         columns={\"backfilled_energy_star_rating\": \"energy_star_rating\", \"backfilled_energy_star_rating_v1\": \"energy_star_rating\", \"facility_type_parsed\": \"facility_type\"}\n",
    "#     ),\n",
    "#     train_filter_y_df,\n",
    "#     train_predict,\n",
    "# )\n",
    "# viz.plot_rmse_by_group(rmse_df)\n",
    "# plt.savefig(\n",
    "#     f\"{wids_path}/validation_result/hannah/{config_name}_rmse_by_group.png\"\n",
    "# )\n",
    "# plt.close()"
   ]
  },
  {
   "cell_type": "code",
   "execution_count": null,
   "metadata": {},
   "outputs": [],
   "source": []
  }
 ],
 "metadata": {
  "colab": {
   "collapsed_sections": [],
   "name": "notebook_run.ipynb",
   "provenance": []
  },
  "kernelspec": {
   "display_name": "Python 3",
   "language": "python",
   "name": "python3"
  },
  "language_info": {
   "codemirror_mode": {
    "name": "ipython",
    "version": 3
   },
   "file_extension": ".py",
   "mimetype": "text/x-python",
   "name": "python",
   "nbconvert_exporter": "python",
   "pygments_lexer": "ipython3",
   "version": "3.7.6"
  }
 },
 "nbformat": 4,
 "nbformat_minor": 1
}
