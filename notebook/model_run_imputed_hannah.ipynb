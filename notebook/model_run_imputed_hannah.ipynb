{
 "cells": [
  {
   "cell_type": "code",
   "execution_count": 1,
   "metadata": {},
   "outputs": [
    {
     "name": "stdout",
     "output_type": "stream",
     "text": [
      "Collecting catboost\n",
      "  Downloading catboost-1.0.4-cp37-none-macosx_10_6_intel.macosx_10_9_intel.macosx_10_9_x86_64.macosx_10_10_intel.macosx_10_10_x86_64.whl (12.7 MB)\n",
      "\u001b[K     |████████████████████████████████| 12.7 MB 3.0 MB/s eta 0:00:01    |██████▊                         | 2.7 MB 3.0 MB/s eta 0:00:04\n",
      "\u001b[?25hRequirement already satisfied: pandas>=0.24.0 in /Users/hannahpu/opt/anaconda3/envs/general-project/lib/python3.7/site-packages (from catboost) (1.1.5)\n",
      "Requirement already satisfied: scipy in /Users/hannahpu/opt/anaconda3/envs/general-project/lib/python3.7/site-packages (from catboost) (1.5.3)\n",
      "Requirement already satisfied: numpy>=1.16.0 in /Users/hannahpu/opt/anaconda3/envs/general-project/lib/python3.7/site-packages (from catboost) (1.19.4)\n",
      "Requirement already satisfied: six in /Users/hannahpu/opt/anaconda3/envs/general-project/lib/python3.7/site-packages (from catboost) (1.15.0)\n",
      "Requirement already satisfied: matplotlib in /Users/hannahpu/opt/anaconda3/envs/general-project/lib/python3.7/site-packages (from catboost) (3.3.3)\n",
      "Requirement already satisfied: python-dateutil>=2.7.3 in /Users/hannahpu/opt/anaconda3/envs/general-project/lib/python3.7/site-packages (from pandas>=0.24.0->catboost) (2.8.1)\n",
      "Requirement already satisfied: pytz>=2017.2 in /Users/hannahpu/opt/anaconda3/envs/general-project/lib/python3.7/site-packages (from pandas>=0.24.0->catboost) (2020.4)\n",
      "Collecting graphviz\n",
      "  Downloading graphviz-0.19.1-py3-none-any.whl (46 kB)\n",
      "\u001b[K     |████████████████████████████████| 46 kB 2.8 MB/s  eta 0:00:01\n",
      "\u001b[?25hRequirement already satisfied: cycler>=0.10 in /Users/hannahpu/opt/anaconda3/envs/general-project/lib/python3.7/site-packages (from matplotlib->catboost) (0.10.0)\n",
      "Requirement already satisfied: pyparsing!=2.0.4,!=2.1.2,!=2.1.6,>=2.0.3 in /Users/hannahpu/opt/anaconda3/envs/general-project/lib/python3.7/site-packages (from matplotlib->catboost) (2.4.7)\n",
      "Requirement already satisfied: kiwisolver>=1.0.1 in /Users/hannahpu/opt/anaconda3/envs/general-project/lib/python3.7/site-packages (from matplotlib->catboost) (1.3.1)\n",
      "Requirement already satisfied: pillow>=6.2.0 in /Users/hannahpu/opt/anaconda3/envs/general-project/lib/python3.7/site-packages (from matplotlib->catboost) (8.0.1)\n",
      "Collecting plotly\n",
      "  Downloading plotly-5.6.0-py2.py3-none-any.whl (27.7 MB)\n",
      "\u001b[K     |████████████████████████████████| 27.7 MB 18.5 MB/s eta 0:00:01   |▎                               | 276 kB 3.5 MB/s eta 0:00:08     |████▍                           | 3.8 MB 3.5 MB/s eta 0:00:07\n",
      "\u001b[?25hCollecting tenacity>=6.2.0\n",
      "  Downloading tenacity-8.0.1-py3-none-any.whl (24 kB)\n",
      "Installing collected packages: tenacity, plotly, graphviz, catboost\n",
      "Successfully installed catboost-1.0.4 graphviz-0.19.1 plotly-5.6.0 tenacity-8.0.1\n",
      "Requirement already satisfied: nb_black in /Users/hannahpu/opt/anaconda3/envs/general-project/lib/python3.7/site-packages (1.0.7)\n",
      "Requirement already satisfied: black>='19.3' in /Users/hannahpu/opt/anaconda3/envs/general-project/lib/python3.7/site-packages (from nb_black) (20.8b1)\n",
      "Requirement already satisfied: ipython in /Users/hannahpu/opt/anaconda3/envs/general-project/lib/python3.7/site-packages (from nb_black) (7.19.0)\n",
      "Requirement already satisfied: regex>=2020.1.8 in /Users/hannahpu/opt/anaconda3/envs/general-project/lib/python3.7/site-packages (from black>='19.3'->nb_black) (2020.11.13)\n",
      "Requirement already satisfied: click>=7.1.2 in /Users/hannahpu/opt/anaconda3/envs/general-project/lib/python3.7/site-packages (from black>='19.3'->nb_black) (7.1.2)\n",
      "Requirement already satisfied: toml>=0.10.1 in /Users/hannahpu/opt/anaconda3/envs/general-project/lib/python3.7/site-packages (from black>='19.3'->nb_black) (0.10.2)\n",
      "Requirement already satisfied: pathspec<1,>=0.6 in /Users/hannahpu/opt/anaconda3/envs/general-project/lib/python3.7/site-packages (from black>='19.3'->nb_black) (0.8.1)\n",
      "Requirement already satisfied: appdirs in /Users/hannahpu/opt/anaconda3/envs/general-project/lib/python3.7/site-packages (from black>='19.3'->nb_black) (1.4.4)\n",
      "Requirement already satisfied: typed-ast>=1.4.0 in /Users/hannahpu/opt/anaconda3/envs/general-project/lib/python3.7/site-packages (from black>='19.3'->nb_black) (1.4.1)\n",
      "Requirement already satisfied: typing-extensions>=3.7.4 in /Users/hannahpu/opt/anaconda3/envs/general-project/lib/python3.7/site-packages (from black>='19.3'->nb_black) (3.7.4.3)\n",
      "Requirement already satisfied: mypy-extensions>=0.4.3 in /Users/hannahpu/opt/anaconda3/envs/general-project/lib/python3.7/site-packages (from black>='19.3'->nb_black) (0.4.3)\n",
      "Requirement already satisfied: setuptools>=18.5 in /Users/hannahpu/opt/anaconda3/envs/general-project/lib/python3.7/site-packages (from ipython->nb_black) (49.6.0.post20201009)\n",
      "Requirement already satisfied: pygments in /Users/hannahpu/opt/anaconda3/envs/general-project/lib/python3.7/site-packages (from ipython->nb_black) (2.7.3)\n",
      "Requirement already satisfied: pexpect>4.3 in /Users/hannahpu/opt/anaconda3/envs/general-project/lib/python3.7/site-packages (from ipython->nb_black) (4.8.0)\n",
      "Requirement already satisfied: prompt-toolkit!=3.0.0,!=3.0.1,<3.1.0,>=2.0.0 in /Users/hannahpu/opt/anaconda3/envs/general-project/lib/python3.7/site-packages (from ipython->nb_black) (3.0.8)\n",
      "Requirement already satisfied: traitlets>=4.2 in /Users/hannahpu/opt/anaconda3/envs/general-project/lib/python3.7/site-packages (from ipython->nb_black) (5.0.5)\n",
      "Requirement already satisfied: pickleshare in /Users/hannahpu/opt/anaconda3/envs/general-project/lib/python3.7/site-packages (from ipython->nb_black) (0.7.5)\n",
      "Requirement already satisfied: jedi>=0.10 in /Users/hannahpu/opt/anaconda3/envs/general-project/lib/python3.7/site-packages (from ipython->nb_black) (0.17.2)\n",
      "Requirement already satisfied: backcall in /Users/hannahpu/opt/anaconda3/envs/general-project/lib/python3.7/site-packages (from ipython->nb_black) (0.2.0)\n",
      "Requirement already satisfied: decorator in /Users/hannahpu/opt/anaconda3/envs/general-project/lib/python3.7/site-packages (from ipython->nb_black) (4.4.2)\n",
      "Requirement already satisfied: appnope in /Users/hannahpu/opt/anaconda3/envs/general-project/lib/python3.7/site-packages (from ipython->nb_black) (0.1.2)\n",
      "Requirement already satisfied: parso<0.8.0,>=0.7.0 in /Users/hannahpu/opt/anaconda3/envs/general-project/lib/python3.7/site-packages (from jedi>=0.10->ipython->nb_black) (0.7.1)\n",
      "Requirement already satisfied: ptyprocess>=0.5 in /Users/hannahpu/opt/anaconda3/envs/general-project/lib/python3.7/site-packages (from pexpect>4.3->ipython->nb_black) (0.6.0)\n",
      "Requirement already satisfied: wcwidth in /Users/hannahpu/opt/anaconda3/envs/general-project/lib/python3.7/site-packages (from prompt-toolkit!=3.0.0,!=3.0.1,<3.1.0,>=2.0.0->ipython->nb_black) (0.2.5)\n",
      "Requirement already satisfied: ipython-genutils in /Users/hannahpu/opt/anaconda3/envs/general-project/lib/python3.7/site-packages (from traitlets>=4.2->ipython->nb_black) (0.2.0)\n"
     ]
    }
   ],
   "source": [
    "!pip install catboost\n",
    "!pip install nb_black"
   ]
  },
  {
   "cell_type": "code",
   "execution_count": 1,
   "metadata": {},
   "outputs": [
    {
     "data": {
      "application/javascript": "\n            setTimeout(function() {\n                var nbb_cell_id = 1;\n                var nbb_unformatted_code = \"%load_ext nb_black\";\n                var nbb_formatted_code = \"%load_ext nb_black\";\n                var nbb_cells = Jupyter.notebook.get_cells();\n                for (var i = 0; i < nbb_cells.length; ++i) {\n                    if (nbb_cells[i].input_prompt_number == nbb_cell_id) {\n                        if (nbb_cells[i].get_text() == nbb_unformatted_code) {\n                             nbb_cells[i].set_text(nbb_formatted_code);\n                        }\n                        break;\n                    }\n                }\n            }, 500);\n            ",
      "text/plain": [
       "<IPython.core.display.Javascript object>"
      ]
     },
     "metadata": {},
     "output_type": "display_data"
    }
   ],
   "source": [
    "%load_ext nb_black"
   ]
  },
  {
   "cell_type": "code",
   "execution_count": 2,
   "metadata": {},
   "outputs": [
    {
     "name": "stdout",
     "output_type": "stream",
     "text": [
      "Test dimension: (9705, 63)\n",
      "Train dimension: (75757, 64)\n",
      "Sample solution dimension: (9705, 2)\n"
     ]
    },
    {
     "data": {
      "application/javascript": "\n            setTimeout(function() {\n                var nbb_cell_id = 2;\n                var nbb_unformatted_code = \"import sys\\n\\nimport catboost as cb\\n\\n# wids_path = \\\"/Users/diana/Documents/projects/widsdatathon2022\\\"\\nwids_path = \\\"..\\\"\\nsys.path.append(wids_path)\\n\\nfrom global_vars import all_feature_columns, response_column\\nimport utils.model_utils as mu\\nfrom utils.data_utils import *\\nfrom utils.visualize import *\\nfrom utils.data_process_utils import *\\n\\npd.set_option(\\\"display.max_columns\\\", 500)\\nsns.set_context(\\\"talk\\\")\\n\\n#### read in data\\ntest_df = pd.read_csv(f\\\"{wids_path}/data/test.csv\\\")\\nprint(f\\\"Test dimension: {test_df.shape}\\\")\\ntrain_df = pd.read_csv(f\\\"{wids_path}/data/train.csv\\\")\\nprint(f\\\"Train dimension: {train_df.shape}\\\")\\nsample_solution_df = pd.read_csv(f\\\"{wids_path}/data/sample_solution.csv\\\")\\nprint(f\\\"Sample solution dimension: {sample_solution_df.shape}\\\")\\ntrain_df.columns = train_df.columns.str.lower()\\ntest_df.columns = test_df.columns.str.lower()\";\n                var nbb_formatted_code = \"import sys\\n\\nimport catboost as cb\\n\\n# wids_path = \\\"/Users/diana/Documents/projects/widsdatathon2022\\\"\\nwids_path = \\\"..\\\"\\nsys.path.append(wids_path)\\n\\nfrom global_vars import all_feature_columns, response_column\\nimport utils.model_utils as mu\\nfrom utils.data_utils import *\\nfrom utils.visualize import *\\nfrom utils.data_process_utils import *\\n\\npd.set_option(\\\"display.max_columns\\\", 500)\\nsns.set_context(\\\"talk\\\")\\n\\n#### read in data\\ntest_df = pd.read_csv(f\\\"{wids_path}/data/test.csv\\\")\\nprint(f\\\"Test dimension: {test_df.shape}\\\")\\ntrain_df = pd.read_csv(f\\\"{wids_path}/data/train.csv\\\")\\nprint(f\\\"Train dimension: {train_df.shape}\\\")\\nsample_solution_df = pd.read_csv(f\\\"{wids_path}/data/sample_solution.csv\\\")\\nprint(f\\\"Sample solution dimension: {sample_solution_df.shape}\\\")\\ntrain_df.columns = train_df.columns.str.lower()\\ntest_df.columns = test_df.columns.str.lower()\";\n                var nbb_cells = Jupyter.notebook.get_cells();\n                for (var i = 0; i < nbb_cells.length; ++i) {\n                    if (nbb_cells[i].input_prompt_number == nbb_cell_id) {\n                        if (nbb_cells[i].get_text() == nbb_unformatted_code) {\n                             nbb_cells[i].set_text(nbb_formatted_code);\n                        }\n                        break;\n                    }\n                }\n            }, 500);\n            ",
      "text/plain": [
       "<IPython.core.display.Javascript object>"
      ]
     },
     "metadata": {},
     "output_type": "display_data"
    }
   ],
   "source": [
    "import sys\n",
    "\n",
    "import catboost as cb\n",
    "\n",
    "# wids_path = \"/Users/diana/Documents/projects/widsdatathon2022\"\n",
    "wids_path = \"..\"\n",
    "sys.path.append(wids_path)\n",
    "\n",
    "from global_vars import all_feature_columns, response_column\n",
    "import utils.model_utils as mu\n",
    "from utils.data_utils import *\n",
    "from utils.visualize import *\n",
    "from utils.data_process_utils import *\n",
    "\n",
    "pd.set_option(\"display.max_columns\", 500)\n",
    "sns.set_context(\"talk\")\n",
    "\n",
    "#### read in data\n",
    "test_df = pd.read_csv(f\"{wids_path}/data/test.csv\")\n",
    "print(f\"Test dimension: {test_df.shape}\")\n",
    "train_df = pd.read_csv(f\"{wids_path}/data/train.csv\")\n",
    "print(f\"Train dimension: {train_df.shape}\")\n",
    "sample_solution_df = pd.read_csv(f\"{wids_path}/data/sample_solution.csv\")\n",
    "print(f\"Sample solution dimension: {sample_solution_df.shape}\")\n",
    "train_df.columns = train_df.columns.str.lower()\n",
    "test_df.columns = test_df.columns.str.lower()"
   ]
  },
  {
   "cell_type": "code",
   "execution_count": 3,
   "metadata": {},
   "outputs": [
    {
     "data": {
      "application/javascript": "\n            setTimeout(function() {\n                var nbb_cell_id = 3;\n                var nbb_unformatted_code = \"feature_dict = {\\n    \\\"compare_impute_log_temp_pca_onehot\\\": {\\n        \\\"cols_to_reduce\\\": temp_col_list,\\n        \\\"log10_transform_cols\\\": [\\\"floor_area\\\"],\\n        \\\"if_one_hot\\\": True,\\n        \\\"backfill_dict\\\": {},\\n    },\\n    \\\"compare_impute_log_temp_pca_onehot_impute\\\": {\\n        \\\"cols_to_reduce\\\": temp_col_list,\\n        \\\"log10_transform_cols\\\": [\\\"floor_area\\\"],\\n        \\\"if_one_hot\\\": True,\\n        \\\"backfill_dict\\\": {\\n            \\\"energy_star_rating\\\": [\\\"state_factor\\\", \\\"building_class\\\", \\\"facility_type\\\"]\\n        },\\n    },\\n    \\\"compare_impute_log_temp_pca_onehot_xgb_impute\\\": {\\n        \\\"cols_to_reduce\\\": temp_col_list,\\n        \\\"log10_transform_cols\\\": [\\\"floor_area\\\"],\\n        \\\"if_one_hot\\\": True,\\n        \\\"backfill_dict\\\": {},\\n    },\\n    \\n}\";\n                var nbb_formatted_code = \"feature_dict = {\\n    \\\"compare_impute_log_temp_pca_onehot\\\": {\\n        \\\"cols_to_reduce\\\": temp_col_list,\\n        \\\"log10_transform_cols\\\": [\\\"floor_area\\\"],\\n        \\\"if_one_hot\\\": True,\\n        \\\"backfill_dict\\\": {},\\n    },\\n    \\\"compare_impute_log_temp_pca_onehot_impute\\\": {\\n        \\\"cols_to_reduce\\\": temp_col_list,\\n        \\\"log10_transform_cols\\\": [\\\"floor_area\\\"],\\n        \\\"if_one_hot\\\": True,\\n        \\\"backfill_dict\\\": {\\n            \\\"energy_star_rating\\\": [\\\"state_factor\\\", \\\"building_class\\\", \\\"facility_type\\\"]\\n        },\\n    },\\n    \\\"compare_impute_log_temp_pca_onehot_xgb_impute\\\": {\\n        \\\"cols_to_reduce\\\": temp_col_list,\\n        \\\"log10_transform_cols\\\": [\\\"floor_area\\\"],\\n        \\\"if_one_hot\\\": True,\\n        \\\"backfill_dict\\\": {},\\n    },\\n}\";\n                var nbb_cells = Jupyter.notebook.get_cells();\n                for (var i = 0; i < nbb_cells.length; ++i) {\n                    if (nbb_cells[i].input_prompt_number == nbb_cell_id) {\n                        if (nbb_cells[i].get_text() == nbb_unformatted_code) {\n                             nbb_cells[i].set_text(nbb_formatted_code);\n                        }\n                        break;\n                    }\n                }\n            }, 500);\n            ",
      "text/plain": [
       "<IPython.core.display.Javascript object>"
      ]
     },
     "metadata": {},
     "output_type": "display_data"
    }
   ],
   "source": [
    "feature_dict = {\n",
    "    \"compare_impute_log_temp_pca_onehot\": {\n",
    "        \"cols_to_reduce\": temp_col_list,\n",
    "        \"log10_transform_cols\": [\"floor_area\"],\n",
    "        \"if_one_hot\": True,\n",
    "        \"backfill_dict\": {},\n",
    "    },\n",
    "    \"compare_impute_log_temp_pca_onehot_impute\": {\n",
    "        \"cols_to_reduce\": temp_col_list,\n",
    "        \"log10_transform_cols\": [\"floor_area\"],\n",
    "        \"if_one_hot\": True,\n",
    "        \"backfill_dict\": {\n",
    "            \"energy_star_rating\": [\"state_factor\", \"building_class\", \"facility_type\"]\n",
    "        },\n",
    "    },\n",
    "    \"compare_impute_log_temp_pca_onehot_xgb_impute\": {\n",
    "        \"cols_to_reduce\": temp_col_list,\n",
    "        \"log10_transform_cols\": [\"floor_area\"],\n",
    "        \"if_one_hot\": True,\n",
    "        \"backfill_dict\": {},\n",
    "    },\n",
    "    \n",
    "}"
   ]
  },
  {
   "cell_type": "code",
   "execution_count": 30,
   "metadata": {},
   "outputs": [
    {
     "name": "stdout",
     "output_type": "stream",
     "text": [
      "Fitting PCA with 9 components\n"
     ]
    },
    {
     "data": {
      "image/png": "[encoded data removed]",
      "text/plain": [
       "<Figure size 432x288 with 1 Axes>"
      ]
     },
     "metadata": {
      "needs_background": "light"
     },
     "output_type": "display_data"
    },
    {
     "data": {
      "application/javascript": "\n            setTimeout(function() {\n                var nbb_cell_id = 30;\n                var nbb_unformatted_code = \"config_name = \\\"compare_impute_log_temp_pca_onehot_impute\\\"\\ncols_to_reduce = feature_dict[config_name][\\\"cols_to_reduce\\\"]\\nlog10_transform_cols = feature_dict[config_name][\\\"log10_transform_cols\\\"]\\nbackfill_dict = feature_dict[config_name][\\\"backfill_dict\\\"]\\nif_scale = False\\nif_one_hot = feature_dict[config_name][\\\"if_one_hot\\\"]\\n\\ntrain_filter_df, test_filter_df, pca_cols = process_data(\\n    train_df.drop_duplicates(),\\n    test_df.drop_duplicates(),\\n    cols_to_reduce,\\n    log10_transform_cols,\\n    0,\\n    backfill_dict,\\n)\";\n                var nbb_formatted_code = \"config_name = \\\"compare_impute_log_temp_pca_onehot_impute\\\"\\ncols_to_reduce = feature_dict[config_name][\\\"cols_to_reduce\\\"]\\nlog10_transform_cols = feature_dict[config_name][\\\"log10_transform_cols\\\"]\\nbackfill_dict = feature_dict[config_name][\\\"backfill_dict\\\"]\\nif_scale = False\\nif_one_hot = feature_dict[config_name][\\\"if_one_hot\\\"]\\n\\ntrain_filter_df, test_filter_df, pca_cols = process_data(\\n    train_df.drop_duplicates(),\\n    test_df.drop_duplicates(),\\n    cols_to_reduce,\\n    log10_transform_cols,\\n    0,\\n    backfill_dict,\\n)\";\n                var nbb_cells = Jupyter.notebook.get_cells();\n                for (var i = 0; i < nbb_cells.length; ++i) {\n                    if (nbb_cells[i].input_prompt_number == nbb_cell_id) {\n                        if (nbb_cells[i].get_text() == nbb_unformatted_code) {\n                             nbb_cells[i].set_text(nbb_formatted_code);\n                        }\n                        break;\n                    }\n                }\n            }, 500);\n            ",
      "text/plain": [
       "<IPython.core.display.Javascript object>"
      ]
     },
     "metadata": {},
     "output_type": "display_data"
    }
   ],
   "source": [
    "config_name = \"compare_impute_log_temp_pca_onehot_impute\"\n",
    "cols_to_reduce = feature_dict[config_name][\"cols_to_reduce\"]\n",
    "log10_transform_cols = feature_dict[config_name][\"log10_transform_cols\"]\n",
    "backfill_dict = feature_dict[config_name][\"backfill_dict\"]\n",
    "if_scale = False\n",
    "if_one_hot = feature_dict[config_name][\"if_one_hot\"]\n",
    "\n",
    "train_filter_df, test_filter_df, pca_cols = process_data(\n",
    "    train_df.drop_duplicates(),\n",
    "    test_df.drop_duplicates(),\n",
    "    cols_to_reduce,\n",
    "    log10_transform_cols,\n",
    "    0,\n",
    "    backfill_dict,\n",
    ")"
   ]
  },
  {
   "cell_type": "code",
   "execution_count": 31,
   "metadata": {},
   "outputs": [
    {
     "data": {
      "application/javascript": "\n            setTimeout(function() {\n                var nbb_cell_id = 31;\n                var nbb_unformatted_code = \"if config_name == \\\"compare_impute_log_temp_pca_onehot_xgb_impute\\\":\\n    predicted_impute_df = pd.read_csv(f\\\"{wids_path}/feature_impute_data/energy_star_rating_by_year_non_weather_onehot_xgb_test_prediction.csv\\\")\\n    train_filter_df = train_filter_df.merge(\\n        predicted_impute_df[[\\\"id\\\", \\\"predict_energy_star_rating\\\"]], on = \\\"id\\\", how = \\\"left\\\"\\n    )\\n    train_filter_df[\\\"backfilled_energy_star_rating\\\"] = train_filter_df[\\\"energy_star_rating\\\"].fillna(\\n        train_filter_df[\\\"predict_energy_star_rating\\\"]\\n        )\\n    test_filter_df = test_filter_df.merge(\\n        predicted_impute_df[[\\\"id\\\", \\\"predict_energy_star_rating\\\"]], on = \\\"id\\\", how = \\\"left\\\"\\n    )\\n    test_filter_df[\\\"backfilled_energy_star_rating\\\"] = test_filter_df[\\\"energy_star_rating\\\"].fillna(\\n        test_filter_df[\\\"predict_energy_star_rating\\\"]\\n        )\";\n                var nbb_formatted_code = \"if config_name == \\\"compare_impute_log_temp_pca_onehot_xgb_impute\\\":\\n    predicted_impute_df = pd.read_csv(\\n        f\\\"{wids_path}/feature_impute_data/energy_star_rating_by_year_non_weather_onehot_xgb_test_prediction.csv\\\"\\n    )\\n    train_filter_df = train_filter_df.merge(\\n        predicted_impute_df[[\\\"id\\\", \\\"predict_energy_star_rating\\\"]], on=\\\"id\\\", how=\\\"left\\\"\\n    )\\n    train_filter_df[\\\"backfilled_energy_star_rating\\\"] = train_filter_df[\\n        \\\"energy_star_rating\\\"\\n    ].fillna(train_filter_df[\\\"predict_energy_star_rating\\\"])\\n    test_filter_df = test_filter_df.merge(\\n        predicted_impute_df[[\\\"id\\\", \\\"predict_energy_star_rating\\\"]], on=\\\"id\\\", how=\\\"left\\\"\\n    )\\n    test_filter_df[\\\"backfilled_energy_star_rating\\\"] = test_filter_df[\\n        \\\"energy_star_rating\\\"\\n    ].fillna(test_filter_df[\\\"predict_energy_star_rating\\\"])\";\n                var nbb_cells = Jupyter.notebook.get_cells();\n                for (var i = 0; i < nbb_cells.length; ++i) {\n                    if (nbb_cells[i].input_prompt_number == nbb_cell_id) {\n                        if (nbb_cells[i].get_text() == nbb_unformatted_code) {\n                             nbb_cells[i].set_text(nbb_formatted_code);\n                        }\n                        break;\n                    }\n                }\n            }, 500);\n            ",
      "text/plain": [
       "<IPython.core.display.Javascript object>"
      ]
     },
     "metadata": {},
     "output_type": "display_data"
    }
   ],
   "source": [
    "if config_name == \"compare_impute_log_temp_pca_onehot_xgb_impute\":\n",
    "    predicted_impute_df = pd.read_csv(f\"{wids_path}/feature_impute_data/energy_star_rating_by_year_non_weather_onehot_xgb_test_prediction.csv\")\n",
    "    train_filter_df = train_filter_df.merge(\n",
    "        predicted_impute_df[[\"id\", \"predict_energy_star_rating\"]], on = \"id\", how = \"left\"\n",
    "    )\n",
    "    train_filter_df[\"backfilled_energy_star_rating\"] = train_filter_df[\"energy_star_rating\"].fillna(\n",
    "        train_filter_df[\"predict_energy_star_rating\"]\n",
    "        )\n",
    "    test_filter_df = test_filter_df.merge(\n",
    "        predicted_impute_df[[\"id\", \"predict_energy_star_rating\"]], on = \"id\", how = \"left\"\n",
    "    )\n",
    "    test_filter_df[\"backfilled_energy_star_rating\"] = test_filter_df[\"energy_star_rating\"].fillna(\n",
    "        test_filter_df[\"predict_energy_star_rating\"]\n",
    "        )\n"
   ]
  },
  {
   "cell_type": "code",
   "execution_count": 32,
   "metadata": {},
   "outputs": [
    {
     "ename": "KeyError",
     "evalue": "\"['predict_energy_star_rating'] not in index\"",
     "output_type": "error",
     "traceback": [
      "\u001b[0;31m---------------------------------------------------------------------------\u001b[0m",
      "\u001b[0;31mKeyError\u001b[0m                                  Traceback (most recent call last)",
      "\u001b[0;32m<ipython-input-32-162d487d5d85>\u001b[0m in \u001b[0;36m<module>\u001b[0;34m\u001b[0m\n\u001b[0;32m----> 1\u001b[0;31m \u001b[0mtrain_filter_df\u001b[0m\u001b[0;34m[\u001b[0m\u001b[0;34m[\u001b[0m\u001b[0;34m\"predict_energy_star_rating\"\u001b[0m\u001b[0;34m,\u001b[0m \u001b[0;34m\"backfilled_energy_star_rating\"\u001b[0m\u001b[0;34m,\u001b[0m \u001b[0;34m\"energy_star_rating\"\u001b[0m\u001b[0;34m]\u001b[0m\u001b[0;34m]\u001b[0m\u001b[0;34m.\u001b[0m\u001b[0mnotnull\u001b[0m\u001b[0;34m(\u001b[0m\u001b[0;34m)\u001b[0m\u001b[0;34m.\u001b[0m\u001b[0msum\u001b[0m\u001b[0;34m(\u001b[0m\u001b[0;34m)\u001b[0m\u001b[0;34m\u001b[0m\u001b[0;34m\u001b[0m\u001b[0m\n\u001b[0m",
      "\u001b[0;32m~/opt/anaconda3/envs/general-project/lib/python3.7/site-packages/pandas/core/frame.py\u001b[0m in \u001b[0;36m__getitem__\u001b[0;34m(self, key)\u001b[0m\n\u001b[1;32m   2910\u001b[0m             \u001b[0;32mif\u001b[0m \u001b[0mis_iterator\u001b[0m\u001b[0;34m(\u001b[0m\u001b[0mkey\u001b[0m\u001b[0;34m)\u001b[0m\u001b[0;34m:\u001b[0m\u001b[0;34m\u001b[0m\u001b[0;34m\u001b[0m\u001b[0m\n\u001b[1;32m   2911\u001b[0m                 \u001b[0mkey\u001b[0m \u001b[0;34m=\u001b[0m \u001b[0mlist\u001b[0m\u001b[0;34m(\u001b[0m\u001b[0mkey\u001b[0m\u001b[0;34m)\u001b[0m\u001b[0;34m\u001b[0m\u001b[0;34m\u001b[0m\u001b[0m\n\u001b[0;32m-> 2912\u001b[0;31m             \u001b[0mindexer\u001b[0m \u001b[0;34m=\u001b[0m \u001b[0mself\u001b[0m\u001b[0;34m.\u001b[0m\u001b[0mloc\u001b[0m\u001b[0;34m.\u001b[0m\u001b[0m_get_listlike_indexer\u001b[0m\u001b[0;34m(\u001b[0m\u001b[0mkey\u001b[0m\u001b[0;34m,\u001b[0m \u001b[0maxis\u001b[0m\u001b[0;34m=\u001b[0m\u001b[0;36m1\u001b[0m\u001b[0;34m,\u001b[0m \u001b[0mraise_missing\u001b[0m\u001b[0;34m=\u001b[0m\u001b[0;32mTrue\u001b[0m\u001b[0;34m)\u001b[0m\u001b[0;34m[\u001b[0m\u001b[0;36m1\u001b[0m\u001b[0;34m]\u001b[0m\u001b[0;34m\u001b[0m\u001b[0;34m\u001b[0m\u001b[0m\n\u001b[0m\u001b[1;32m   2913\u001b[0m \u001b[0;34m\u001b[0m\u001b[0m\n\u001b[1;32m   2914\u001b[0m         \u001b[0;31m# take() does not accept boolean indexers\u001b[0m\u001b[0;34m\u001b[0m\u001b[0;34m\u001b[0m\u001b[0;34m\u001b[0m\u001b[0m\n",
      "\u001b[0;32m~/opt/anaconda3/envs/general-project/lib/python3.7/site-packages/pandas/core/indexing.py\u001b[0m in \u001b[0;36m_get_listlike_indexer\u001b[0;34m(self, key, axis, raise_missing)\u001b[0m\n\u001b[1;32m   1252\u001b[0m             \u001b[0mkeyarr\u001b[0m\u001b[0;34m,\u001b[0m \u001b[0mindexer\u001b[0m\u001b[0;34m,\u001b[0m \u001b[0mnew_indexer\u001b[0m \u001b[0;34m=\u001b[0m \u001b[0max\u001b[0m\u001b[0;34m.\u001b[0m\u001b[0m_reindex_non_unique\u001b[0m\u001b[0;34m(\u001b[0m\u001b[0mkeyarr\u001b[0m\u001b[0;34m)\u001b[0m\u001b[0;34m\u001b[0m\u001b[0;34m\u001b[0m\u001b[0m\n\u001b[1;32m   1253\u001b[0m \u001b[0;34m\u001b[0m\u001b[0m\n\u001b[0;32m-> 1254\u001b[0;31m         \u001b[0mself\u001b[0m\u001b[0;34m.\u001b[0m\u001b[0m_validate_read_indexer\u001b[0m\u001b[0;34m(\u001b[0m\u001b[0mkeyarr\u001b[0m\u001b[0;34m,\u001b[0m \u001b[0mindexer\u001b[0m\u001b[0;34m,\u001b[0m \u001b[0maxis\u001b[0m\u001b[0;34m,\u001b[0m \u001b[0mraise_missing\u001b[0m\u001b[0;34m=\u001b[0m\u001b[0mraise_missing\u001b[0m\u001b[0;34m)\u001b[0m\u001b[0;34m\u001b[0m\u001b[0;34m\u001b[0m\u001b[0m\n\u001b[0m\u001b[1;32m   1255\u001b[0m         \u001b[0;32mreturn\u001b[0m \u001b[0mkeyarr\u001b[0m\u001b[0;34m,\u001b[0m \u001b[0mindexer\u001b[0m\u001b[0;34m\u001b[0m\u001b[0;34m\u001b[0m\u001b[0m\n\u001b[1;32m   1256\u001b[0m \u001b[0;34m\u001b[0m\u001b[0m\n",
      "\u001b[0;32m~/opt/anaconda3/envs/general-project/lib/python3.7/site-packages/pandas/core/indexing.py\u001b[0m in \u001b[0;36m_validate_read_indexer\u001b[0;34m(self, key, indexer, axis, raise_missing)\u001b[0m\n\u001b[1;32m   1302\u001b[0m             \u001b[0;32mif\u001b[0m \u001b[0mraise_missing\u001b[0m\u001b[0;34m:\u001b[0m\u001b[0;34m\u001b[0m\u001b[0;34m\u001b[0m\u001b[0m\n\u001b[1;32m   1303\u001b[0m                 \u001b[0mnot_found\u001b[0m \u001b[0;34m=\u001b[0m \u001b[0mlist\u001b[0m\u001b[0;34m(\u001b[0m\u001b[0mset\u001b[0m\u001b[0;34m(\u001b[0m\u001b[0mkey\u001b[0m\u001b[0;34m)\u001b[0m \u001b[0;34m-\u001b[0m \u001b[0mset\u001b[0m\u001b[0;34m(\u001b[0m\u001b[0max\u001b[0m\u001b[0;34m)\u001b[0m\u001b[0;34m)\u001b[0m\u001b[0;34m\u001b[0m\u001b[0;34m\u001b[0m\u001b[0m\n\u001b[0;32m-> 1304\u001b[0;31m                 \u001b[0;32mraise\u001b[0m \u001b[0mKeyError\u001b[0m\u001b[0;34m(\u001b[0m\u001b[0;34mf\"{not_found} not in index\"\u001b[0m\u001b[0;34m)\u001b[0m\u001b[0;34m\u001b[0m\u001b[0;34m\u001b[0m\u001b[0m\n\u001b[0m\u001b[1;32m   1305\u001b[0m \u001b[0;34m\u001b[0m\u001b[0m\n\u001b[1;32m   1306\u001b[0m             \u001b[0;31m# we skip the warning on Categorical\u001b[0m\u001b[0;34m\u001b[0m\u001b[0;34m\u001b[0m\u001b[0;34m\u001b[0m\u001b[0m\n",
      "\u001b[0;31mKeyError\u001b[0m: \"['predict_energy_star_rating'] not in index\""
     ]
    },
    {
     "data": {
      "application/javascript": "\n            setTimeout(function() {\n                var nbb_cell_id = 32;\n                var nbb_unformatted_code = \"train_filter_df[[\\\"predict_energy_star_rating\\\", \\\"backfilled_energy_star_rating\\\", \\\"energy_star_rating\\\"]].notnull().sum()\";\n                var nbb_formatted_code = \"train_filter_df[\\n    [\\n        \\\"predict_energy_star_rating\\\",\\n        \\\"backfilled_energy_star_rating\\\",\\n        \\\"energy_star_rating\\\",\\n    ]\\n].notnull().sum()\";\n                var nbb_cells = Jupyter.notebook.get_cells();\n                for (var i = 0; i < nbb_cells.length; ++i) {\n                    if (nbb_cells[i].input_prompt_number == nbb_cell_id) {\n                        if (nbb_cells[i].get_text() == nbb_unformatted_code) {\n                             nbb_cells[i].set_text(nbb_formatted_code);\n                        }\n                        break;\n                    }\n                }\n            }, 500);\n            ",
      "text/plain": [
       "<IPython.core.display.Javascript object>"
      ]
     },
     "metadata": {},
     "output_type": "display_data"
    }
   ],
   "source": [
    "train_filter_df[[\"predict_energy_star_rating\", \"backfilled_energy_star_rating\", \"energy_star_rating\"]].notnull().sum()"
   ]
  },
  {
   "cell_type": "code",
   "execution_count": 33,
   "metadata": {},
   "outputs": [
    {
     "ename": "KeyError",
     "evalue": "\"['predict_energy_star_rating'] not in index\"",
     "output_type": "error",
     "traceback": [
      "\u001b[0;31m---------------------------------------------------------------------------\u001b[0m",
      "\u001b[0;31mKeyError\u001b[0m                                  Traceback (most recent call last)",
      "\u001b[0;32m<ipython-input-33-ea060d75b940>\u001b[0m in \u001b[0;36m<module>\u001b[0;34m\u001b[0m\n\u001b[0;32m----> 1\u001b[0;31m \u001b[0mtest_filter_df\u001b[0m\u001b[0;34m[\u001b[0m\u001b[0;34m[\u001b[0m\u001b[0;34m\"predict_energy_star_rating\"\u001b[0m\u001b[0;34m,\u001b[0m \u001b[0;34m\"backfilled_energy_star_rating\"\u001b[0m\u001b[0;34m,\u001b[0m \u001b[0;34m\"energy_star_rating\"\u001b[0m\u001b[0;34m]\u001b[0m\u001b[0;34m]\u001b[0m\u001b[0;34m.\u001b[0m\u001b[0mnotnull\u001b[0m\u001b[0;34m(\u001b[0m\u001b[0;34m)\u001b[0m\u001b[0;34m.\u001b[0m\u001b[0msum\u001b[0m\u001b[0;34m(\u001b[0m\u001b[0;34m)\u001b[0m\u001b[0;34m\u001b[0m\u001b[0;34m\u001b[0m\u001b[0m\n\u001b[0m",
      "\u001b[0;32m~/opt/anaconda3/envs/general-project/lib/python3.7/site-packages/pandas/core/frame.py\u001b[0m in \u001b[0;36m__getitem__\u001b[0;34m(self, key)\u001b[0m\n\u001b[1;32m   2910\u001b[0m             \u001b[0;32mif\u001b[0m \u001b[0mis_iterator\u001b[0m\u001b[0;34m(\u001b[0m\u001b[0mkey\u001b[0m\u001b[0;34m)\u001b[0m\u001b[0;34m:\u001b[0m\u001b[0;34m\u001b[0m\u001b[0;34m\u001b[0m\u001b[0m\n\u001b[1;32m   2911\u001b[0m                 \u001b[0mkey\u001b[0m \u001b[0;34m=\u001b[0m \u001b[0mlist\u001b[0m\u001b[0;34m(\u001b[0m\u001b[0mkey\u001b[0m\u001b[0;34m)\u001b[0m\u001b[0;34m\u001b[0m\u001b[0;34m\u001b[0m\u001b[0m\n\u001b[0;32m-> 2912\u001b[0;31m             \u001b[0mindexer\u001b[0m \u001b[0;34m=\u001b[0m \u001b[0mself\u001b[0m\u001b[0;34m.\u001b[0m\u001b[0mloc\u001b[0m\u001b[0;34m.\u001b[0m\u001b[0m_get_listlike_indexer\u001b[0m\u001b[0;34m(\u001b[0m\u001b[0mkey\u001b[0m\u001b[0;34m,\u001b[0m \u001b[0maxis\u001b[0m\u001b[0;34m=\u001b[0m\u001b[0;36m1\u001b[0m\u001b[0;34m,\u001b[0m \u001b[0mraise_missing\u001b[0m\u001b[0;34m=\u001b[0m\u001b[0;32mTrue\u001b[0m\u001b[0;34m)\u001b[0m\u001b[0;34m[\u001b[0m\u001b[0;36m1\u001b[0m\u001b[0;34m]\u001b[0m\u001b[0;34m\u001b[0m\u001b[0;34m\u001b[0m\u001b[0m\n\u001b[0m\u001b[1;32m   2913\u001b[0m \u001b[0;34m\u001b[0m\u001b[0m\n\u001b[1;32m   2914\u001b[0m         \u001b[0;31m# take() does not accept boolean indexers\u001b[0m\u001b[0;34m\u001b[0m\u001b[0;34m\u001b[0m\u001b[0;34m\u001b[0m\u001b[0m\n",
      "\u001b[0;32m~/opt/anaconda3/envs/general-project/lib/python3.7/site-packages/pandas/core/indexing.py\u001b[0m in \u001b[0;36m_get_listlike_indexer\u001b[0;34m(self, key, axis, raise_missing)\u001b[0m\n\u001b[1;32m   1252\u001b[0m             \u001b[0mkeyarr\u001b[0m\u001b[0;34m,\u001b[0m \u001b[0mindexer\u001b[0m\u001b[0;34m,\u001b[0m \u001b[0mnew_indexer\u001b[0m \u001b[0;34m=\u001b[0m \u001b[0max\u001b[0m\u001b[0;34m.\u001b[0m\u001b[0m_reindex_non_unique\u001b[0m\u001b[0;34m(\u001b[0m\u001b[0mkeyarr\u001b[0m\u001b[0;34m)\u001b[0m\u001b[0;34m\u001b[0m\u001b[0;34m\u001b[0m\u001b[0m\n\u001b[1;32m   1253\u001b[0m \u001b[0;34m\u001b[0m\u001b[0m\n\u001b[0;32m-> 1254\u001b[0;31m         \u001b[0mself\u001b[0m\u001b[0;34m.\u001b[0m\u001b[0m_validate_read_indexer\u001b[0m\u001b[0;34m(\u001b[0m\u001b[0mkeyarr\u001b[0m\u001b[0;34m,\u001b[0m \u001b[0mindexer\u001b[0m\u001b[0;34m,\u001b[0m \u001b[0maxis\u001b[0m\u001b[0;34m,\u001b[0m \u001b[0mraise_missing\u001b[0m\u001b[0;34m=\u001b[0m\u001b[0mraise_missing\u001b[0m\u001b[0;34m)\u001b[0m\u001b[0;34m\u001b[0m\u001b[0;34m\u001b[0m\u001b[0m\n\u001b[0m\u001b[1;32m   1255\u001b[0m         \u001b[0;32mreturn\u001b[0m \u001b[0mkeyarr\u001b[0m\u001b[0;34m,\u001b[0m \u001b[0mindexer\u001b[0m\u001b[0;34m\u001b[0m\u001b[0;34m\u001b[0m\u001b[0m\n\u001b[1;32m   1256\u001b[0m \u001b[0;34m\u001b[0m\u001b[0m\n",
      "\u001b[0;32m~/opt/anaconda3/envs/general-project/lib/python3.7/site-packages/pandas/core/indexing.py\u001b[0m in \u001b[0;36m_validate_read_indexer\u001b[0;34m(self, key, indexer, axis, raise_missing)\u001b[0m\n\u001b[1;32m   1302\u001b[0m             \u001b[0;32mif\u001b[0m \u001b[0mraise_missing\u001b[0m\u001b[0;34m:\u001b[0m\u001b[0;34m\u001b[0m\u001b[0;34m\u001b[0m\u001b[0m\n\u001b[1;32m   1303\u001b[0m                 \u001b[0mnot_found\u001b[0m \u001b[0;34m=\u001b[0m \u001b[0mlist\u001b[0m\u001b[0;34m(\u001b[0m\u001b[0mset\u001b[0m\u001b[0;34m(\u001b[0m\u001b[0mkey\u001b[0m\u001b[0;34m)\u001b[0m \u001b[0;34m-\u001b[0m \u001b[0mset\u001b[0m\u001b[0;34m(\u001b[0m\u001b[0max\u001b[0m\u001b[0;34m)\u001b[0m\u001b[0;34m)\u001b[0m\u001b[0;34m\u001b[0m\u001b[0;34m\u001b[0m\u001b[0m\n\u001b[0;32m-> 1304\u001b[0;31m                 \u001b[0;32mraise\u001b[0m \u001b[0mKeyError\u001b[0m\u001b[0;34m(\u001b[0m\u001b[0;34mf\"{not_found} not in index\"\u001b[0m\u001b[0;34m)\u001b[0m\u001b[0;34m\u001b[0m\u001b[0;34m\u001b[0m\u001b[0m\n\u001b[0m\u001b[1;32m   1305\u001b[0m \u001b[0;34m\u001b[0m\u001b[0m\n\u001b[1;32m   1306\u001b[0m             \u001b[0;31m# we skip the warning on Categorical\u001b[0m\u001b[0;34m\u001b[0m\u001b[0;34m\u001b[0m\u001b[0;34m\u001b[0m\u001b[0m\n",
      "\u001b[0;31mKeyError\u001b[0m: \"['predict_energy_star_rating'] not in index\""
     ]
    },
    {
     "data": {
      "application/javascript": "\n            setTimeout(function() {\n                var nbb_cell_id = 33;\n                var nbb_unformatted_code = \"test_filter_df[[\\\"predict_energy_star_rating\\\", \\\"backfilled_energy_star_rating\\\", \\\"energy_star_rating\\\"]].notnull().sum()\";\n                var nbb_formatted_code = \"test_filter_df[\\n    [\\n        \\\"predict_energy_star_rating\\\",\\n        \\\"backfilled_energy_star_rating\\\",\\n        \\\"energy_star_rating\\\",\\n    ]\\n].notnull().sum()\";\n                var nbb_cells = Jupyter.notebook.get_cells();\n                for (var i = 0; i < nbb_cells.length; ++i) {\n                    if (nbb_cells[i].input_prompt_number == nbb_cell_id) {\n                        if (nbb_cells[i].get_text() == nbb_unformatted_code) {\n                             nbb_cells[i].set_text(nbb_formatted_code);\n                        }\n                        break;\n                    }\n                }\n            }, 500);\n            ",
      "text/plain": [
       "<IPython.core.display.Javascript object>"
      ]
     },
     "metadata": {},
     "output_type": "display_data"
    }
   ],
   "source": [
    "test_filter_df[[\"predict_energy_star_rating\", \"backfilled_energy_star_rating\", \"energy_star_rating\"]].notnull().sum()"
   ]
  },
  {
   "cell_type": "code",
   "execution_count": 34,
   "metadata": {},
   "outputs": [
    {
     "name": "stdout",
     "output_type": "stream",
     "text": [
      "compare_impute_log_temp_pca_onehot_impute ['precipitation_inches', 'heating_degree_days', 'temp_pca6', 'days_below_30f', 'elevation', 'temp_pca5', 'temp_pca9', 'days_with_fog', 'days_below_0f', 'max_wind_speed', 'log10_floor_area', 'temp_pca8', 'days_above_100f', 'temp_pca3', 'year_built', 'days_below_20f', 'building_class', 'temp_pca1', 'cooling_degree_days', 'direction_peak_wind_speed', 'facility_type', 'snowdepth_inches', 'direction_max_wind_speed', 'snowfall_inches', 'temp_pca4', 'state_factor', 'temp_pca7', 'days_below_10f', 'days_above_110f', 'temp_pca2', 'days_above_80f', 'days_above_90f', 'backfilled_energy_star_rating'] True\n"
     ]
    },
    {
     "data": {
      "application/javascript": "\n            setTimeout(function() {\n                var nbb_cell_id = 34;\n                var nbb_unformatted_code = \"# Set feature columns after data transformations\\nfeatures_columns = (\\n    list(set(all_feature_columns) - set(cols_to_reduce) - set(log10_transform_cols))\\n    + pca_cols\\n    + [f\\\"log10_{col}\\\" for col in log10_transform_cols]\\n)\\nif backfill_dict:\\n    backfill_cols = list(backfill_dict.keys())\\n    features_columns = list(set(features_columns) - set(backfill_cols)) + [\\n        f\\\"backfilled_{col}\\\" for col in backfill_cols\\n    ]\\nif config_name == \\\"compare_impute_log_temp_pca_onehot_xgb_impute\\\":\\n    backfill_cols = [\\\"energy_star_rating\\\"]\\n    features_columns = list(set(features_columns) - set(backfill_cols)) + [\\n        f\\\"backfilled_{col}\\\" for col in backfill_cols\\n    ]\\nprint(config_name, features_columns, if_one_hot)\";\n                var nbb_formatted_code = \"# Set feature columns after data transformations\\nfeatures_columns = (\\n    list(set(all_feature_columns) - set(cols_to_reduce) - set(log10_transform_cols))\\n    + pca_cols\\n    + [f\\\"log10_{col}\\\" for col in log10_transform_cols]\\n)\\nif backfill_dict:\\n    backfill_cols = list(backfill_dict.keys())\\n    features_columns = list(set(features_columns) - set(backfill_cols)) + [\\n        f\\\"backfilled_{col}\\\" for col in backfill_cols\\n    ]\\nif config_name == \\\"compare_impute_log_temp_pca_onehot_xgb_impute\\\":\\n    backfill_cols = [\\\"energy_star_rating\\\"]\\n    features_columns = list(set(features_columns) - set(backfill_cols)) + [\\n        f\\\"backfilled_{col}\\\" for col in backfill_cols\\n    ]\\nprint(config_name, features_columns, if_one_hot)\";\n                var nbb_cells = Jupyter.notebook.get_cells();\n                for (var i = 0; i < nbb_cells.length; ++i) {\n                    if (nbb_cells[i].input_prompt_number == nbb_cell_id) {\n                        if (nbb_cells[i].get_text() == nbb_unformatted_code) {\n                             nbb_cells[i].set_text(nbb_formatted_code);\n                        }\n                        break;\n                    }\n                }\n            }, 500);\n            ",
      "text/plain": [
       "<IPython.core.display.Javascript object>"
      ]
     },
     "metadata": {},
     "output_type": "display_data"
    }
   ],
   "source": [
    "# Set feature columns after data transformations\n",
    "features_columns = (\n",
    "    list(set(all_feature_columns) - set(cols_to_reduce) - set(log10_transform_cols))\n",
    "    + pca_cols\n",
    "    + [f\"log10_{col}\" for col in log10_transform_cols]\n",
    ")\n",
    "if backfill_dict:\n",
    "    backfill_cols = list(backfill_dict.keys())\n",
    "    features_columns = list(set(features_columns) - set(backfill_cols)) + [\n",
    "        f\"backfilled_{col}\" for col in backfill_cols\n",
    "    ]\n",
    "if config_name == \"compare_impute_log_temp_pca_onehot_xgb_impute\":\n",
    "    backfill_cols = [\"energy_star_rating\"]\n",
    "    features_columns = list(set(features_columns) - set(backfill_cols)) + [\n",
    "        f\"backfilled_{col}\" for col in backfill_cols\n",
    "    ]\n",
    "print(config_name, features_columns, if_one_hot)"
   ]
  },
  {
   "cell_type": "code",
   "execution_count": 35,
   "metadata": {},
   "outputs": [
    {
     "name": "stdout",
     "output_type": "stream",
     "text": [
      "Running catboost\n",
      "Modeling 1...\n",
      "Columns to be dummied: ['building_class', 'facility_type', 'state_factor']\n",
      "Modeling 2...\n",
      "Columns to be dummied: ['building_class', 'facility_type', 'state_factor']\n",
      "Modeling 3...\n",
      "Columns to be dummied: ['building_class', 'facility_type', 'state_factor']\n",
      "Modeling 4...\n",
      "Columns to be dummied: ['building_class', 'facility_type', 'state_factor']\n",
      "Modeling 5...\n",
      "Columns to be dummied: ['building_class', 'facility_type', 'state_factor']\n",
      "Modeling 6...\n",
      "Columns to be dummied: ['building_class', 'facility_type', 'state_factor']\n",
      "Average RMSE:\n",
      "left_out_year     3.500000\n",
      "train_rmse       27.066181\n",
      "test_rmse        44.238423\n",
      "dtype: float64\n"
     ]
    },
    {
     "data": {
      "text/html": [
       "<div>\n",
       "<style scoped>\n",
       "    .dataframe tbody tr th:only-of-type {\n",
       "        vertical-align: middle;\n",
       "    }\n",
       "\n",
       "    .dataframe tbody tr th {\n",
       "        vertical-align: top;\n",
       "    }\n",
       "\n",
       "    .dataframe thead th {\n",
       "        text-align: right;\n",
       "    }\n",
       "</style>\n",
       "<table border=\"1\" class=\"dataframe\">\n",
       "  <thead>\n",
       "    <tr style=\"text-align: right;\">\n",
       "      <th></th>\n",
       "      <th>left_out_year</th>\n",
       "      <th>train_rmse</th>\n",
       "      <th>test_rmse</th>\n",
       "    </tr>\n",
       "  </thead>\n",
       "  <tbody>\n",
       "    <tr>\n",
       "      <th>0</th>\n",
       "      <td>1</td>\n",
       "      <td>26.978518</td>\n",
       "      <td>55.269912</td>\n",
       "    </tr>\n",
       "    <tr>\n",
       "      <th>1</th>\n",
       "      <td>2</td>\n",
       "      <td>26.272615</td>\n",
       "      <td>42.497042</td>\n",
       "    </tr>\n",
       "    <tr>\n",
       "      <th>2</th>\n",
       "      <td>3</td>\n",
       "      <td>25.265986</td>\n",
       "      <td>46.672325</td>\n",
       "    </tr>\n",
       "    <tr>\n",
       "      <th>3</th>\n",
       "      <td>4</td>\n",
       "      <td>27.232493</td>\n",
       "      <td>38.849916</td>\n",
       "    </tr>\n",
       "    <tr>\n",
       "      <th>4</th>\n",
       "      <td>5</td>\n",
       "      <td>28.600480</td>\n",
       "      <td>37.580271</td>\n",
       "    </tr>\n",
       "    <tr>\n",
       "      <th>5</th>\n",
       "      <td>6</td>\n",
       "      <td>28.046996</td>\n",
       "      <td>44.561072</td>\n",
       "    </tr>\n",
       "  </tbody>\n",
       "</table>\n",
       "</div>"
      ],
      "text/plain": [
       "   left_out_year  train_rmse  test_rmse\n",
       "0              1   26.978518  55.269912\n",
       "1              2   26.272615  42.497042\n",
       "2              3   25.265986  46.672325\n",
       "3              4   27.232493  38.849916\n",
       "4              5   28.600480  37.580271\n",
       "5              6   28.046996  44.561072"
      ]
     },
     "metadata": {},
     "output_type": "display_data"
    },
    {
     "name": "stdout",
     "output_type": "stream",
     "text": [
      "Columns to be dummied: ['building_class', 'facility_type', 'state_factor']\n",
      "Whole data train RMSE: 27.211524541790645\n"
     ]
    },
    {
     "data": {
      "text/html": [
       "<div>\n",
       "<style scoped>\n",
       "    .dataframe tbody tr th:only-of-type {\n",
       "        vertical-align: middle;\n",
       "    }\n",
       "\n",
       "    .dataframe tbody tr th {\n",
       "        vertical-align: top;\n",
       "    }\n",
       "\n",
       "    .dataframe thead th {\n",
       "        text-align: right;\n",
       "    }\n",
       "</style>\n",
       "<table border=\"1\" class=\"dataframe\">\n",
       "  <thead>\n",
       "    <tr style=\"text-align: right;\">\n",
       "      <th></th>\n",
       "      <th>left_out_year</th>\n",
       "      <th>train_rmse</th>\n",
       "      <th>test_rmse</th>\n",
       "      <th>method</th>\n",
       "    </tr>\n",
       "  </thead>\n",
       "  <tbody>\n",
       "    <tr>\n",
       "      <th>0</th>\n",
       "      <td>1.0</td>\n",
       "      <td>26.978518</td>\n",
       "      <td>55.269912</td>\n",
       "      <td>loyo</td>\n",
       "    </tr>\n",
       "    <tr>\n",
       "      <th>1</th>\n",
       "      <td>2.0</td>\n",
       "      <td>26.272615</td>\n",
       "      <td>42.497042</td>\n",
       "      <td>loyo</td>\n",
       "    </tr>\n",
       "    <tr>\n",
       "      <th>2</th>\n",
       "      <td>3.0</td>\n",
       "      <td>25.265986</td>\n",
       "      <td>46.672325</td>\n",
       "      <td>loyo</td>\n",
       "    </tr>\n",
       "    <tr>\n",
       "      <th>3</th>\n",
       "      <td>4.0</td>\n",
       "      <td>27.232493</td>\n",
       "      <td>38.849916</td>\n",
       "      <td>loyo</td>\n",
       "    </tr>\n",
       "    <tr>\n",
       "      <th>4</th>\n",
       "      <td>5.0</td>\n",
       "      <td>28.600480</td>\n",
       "      <td>37.580271</td>\n",
       "      <td>loyo</td>\n",
       "    </tr>\n",
       "    <tr>\n",
       "      <th>5</th>\n",
       "      <td>6.0</td>\n",
       "      <td>28.046996</td>\n",
       "      <td>44.561072</td>\n",
       "      <td>loyo</td>\n",
       "    </tr>\n",
       "    <tr>\n",
       "      <th>6</th>\n",
       "      <td>0.0</td>\n",
       "      <td>27.211525</td>\n",
       "      <td>NaN</td>\n",
       "      <td>whole train</td>\n",
       "    </tr>\n",
       "  </tbody>\n",
       "</table>\n",
       "</div>"
      ],
      "text/plain": [
       "   left_out_year  train_rmse  test_rmse       method\n",
       "0            1.0   26.978518  55.269912         loyo\n",
       "1            2.0   26.272615  42.497042         loyo\n",
       "2            3.0   25.265986  46.672325         loyo\n",
       "3            4.0   27.232493  38.849916         loyo\n",
       "4            5.0   28.600480  37.580271         loyo\n",
       "5            6.0   28.046996  44.561072         loyo\n",
       "6            0.0   27.211525        NaN  whole train"
      ]
     },
     "metadata": {},
     "output_type": "display_data"
    },
    {
     "name": "stderr",
     "output_type": "stream",
     "text": [
      "/Users/hannahpu/opt/anaconda3/envs/general-project/lib/python3.7/site-packages/ipykernel_launcher.py:44: SettingWithCopyWarning: \n",
      "A value is trying to be set on a copy of a slice from a DataFrame.\n",
      "Try using .loc[row_indexer,col_indexer] = value instead\n",
      "\n",
      "See the caveats in the documentation: https://pandas.pydata.org/pandas-docs/stable/user_guide/indexing.html#returning-a-view-versus-a-copy\n"
     ]
    },
    {
     "data": {
      "application/javascript": "\n            setTimeout(function() {\n                var nbb_cell_id = 35;\n                var nbb_unformatted_code = \"depth = 12\\nmodel = cb.CatBoostRegressor(loss_function=\\\"RMSE\\\", depth=depth, verbose=False)\\n\\n## Run LOY model\\ncatboost_rmse = mu.run_leave_year_out(\\n    model_df=train_filter_df,\\n    ml_model=model,\\n    features_columns=features_columns,\\n    if_scale_data=if_scale,\\n    if_one_hot=if_one_hot,\\n    model_type=\\\"catboost\\\",\\n)\\nprint(f\\\"Average RMSE:\\\\n{catboost_rmse.mean()}\\\")\\ndisplay(catboost_rmse)\\n\\n## predict on test data\\ntrain_filter_x_df, train_filter_y_df = mu.split_model_feature_response(\\n    train_filter_df, features_columns\\n)\\ntest_filter_x_df = mu.split_model_feature_response(\\n    test_filter_df, features_columns, if_with_response=False\\n)\\nprocessed_train_x_df, processed_test_x_df = mu.process_train_test_data(\\n    train_filter_x_df, test_filter_x_df, if_scale, if_one_hot, full_data_df = train_filter_x_df\\n)\\n\\ntrain_predict, test_predict, fitted_model = mu.run_catboost_model(\\n    model, processed_train_x_df, train_filter_y_df, processed_test_x_df\\n)\\ntraining_rmse = mu.calculate_rmse(train_filter_y_df, train_predict)\\nprint(f\\\"Whole data train RMSE: {training_rmse}\\\")\\n\\n## output save result\\ncatboost_rmse.loc[catboost_rmse.shape[0], :] = [0, training_rmse, np.nan]\\ncatboost_rmse[\\\"method\\\"] = catboost_rmse[\\\"left_out_year\\\"].apply(\\n    lambda x: \\\"loyo\\\" if x > 0 else \\\"whole train\\\"\\n)\\ndisplay(catboost_rmse)\\ncatboost_rmse.to_csv(\\n    f\\\"{wids_path}/validation_result/{config_name}_depth{depth}.csv\\\", index=False\\n)\\n\\ntest_prediction_result = test_df[[\\\"id\\\"]]\\ntest_prediction_result[\\\"site_eui\\\"] = test_predict\\ntest_prediction_result.to_csv(\\n    f\\\"{wids_path}/prediction_result/{config_name}_depth{depth}.csv\\\", index=False\\n)\\n\\n# plot_catboost_feature_importance(model)\\n# plt.savefig(\\n#     f\\\"{wids_path}/validation_result/{config_name}_feature_importance_depth{depth}.png\\\"\\n# )\\n\\n# rmse_df = get_rmse_by_group(\\n#     train_filter_x_df.rename(\\n#         columns={\\\"backfilled_energy_star_rating\\\": \\\"energy_star_rating\\\"}\\n#     ),\\n#     train_filter_y_df,\\n#     train_predict,\\n# )\\n# plot_rmse_by_group(rmse_df)\\n# plt.savefig(\\n#     f\\\"{wids_path}/validation_result/{config_name}_rmse_by_group_depth{depth}.png\\\"\\n# )\";\n                var nbb_formatted_code = \"depth = 12\\nmodel = cb.CatBoostRegressor(loss_function=\\\"RMSE\\\", depth=depth, verbose=False)\\n\\n## Run LOY model\\ncatboost_rmse = mu.run_leave_year_out(\\n    model_df=train_filter_df,\\n    ml_model=model,\\n    features_columns=features_columns,\\n    if_scale_data=if_scale,\\n    if_one_hot=if_one_hot,\\n    model_type=\\\"catboost\\\",\\n)\\nprint(f\\\"Average RMSE:\\\\n{catboost_rmse.mean()}\\\")\\ndisplay(catboost_rmse)\\n\\n## predict on test data\\ntrain_filter_x_df, train_filter_y_df = mu.split_model_feature_response(\\n    train_filter_df, features_columns\\n)\\ntest_filter_x_df = mu.split_model_feature_response(\\n    test_filter_df, features_columns, if_with_response=False\\n)\\nprocessed_train_x_df, processed_test_x_df = mu.process_train_test_data(\\n    train_filter_x_df,\\n    test_filter_x_df,\\n    if_scale,\\n    if_one_hot,\\n    full_data_df=train_filter_x_df,\\n)\\n\\ntrain_predict, test_predict, fitted_model = mu.run_catboost_model(\\n    model, processed_train_x_df, train_filter_y_df, processed_test_x_df\\n)\\ntraining_rmse = mu.calculate_rmse(train_filter_y_df, train_predict)\\nprint(f\\\"Whole data train RMSE: {training_rmse}\\\")\\n\\n## output save result\\ncatboost_rmse.loc[catboost_rmse.shape[0], :] = [0, training_rmse, np.nan]\\ncatboost_rmse[\\\"method\\\"] = catboost_rmse[\\\"left_out_year\\\"].apply(\\n    lambda x: \\\"loyo\\\" if x > 0 else \\\"whole train\\\"\\n)\\ndisplay(catboost_rmse)\\ncatboost_rmse.to_csv(\\n    f\\\"{wids_path}/validation_result/{config_name}_depth{depth}.csv\\\", index=False\\n)\\n\\ntest_prediction_result = test_df[[\\\"id\\\"]]\\ntest_prediction_result[\\\"site_eui\\\"] = test_predict\\ntest_prediction_result.to_csv(\\n    f\\\"{wids_path}/prediction_result/{config_name}_depth{depth}.csv\\\", index=False\\n)\\n\\n# plot_catboost_feature_importance(model)\\n# plt.savefig(\\n#     f\\\"{wids_path}/validation_result/{config_name}_feature_importance_depth{depth}.png\\\"\\n# )\\n\\n# rmse_df = get_rmse_by_group(\\n#     train_filter_x_df.rename(\\n#         columns={\\\"backfilled_energy_star_rating\\\": \\\"energy_star_rating\\\"}\\n#     ),\\n#     train_filter_y_df,\\n#     train_predict,\\n# )\\n# plot_rmse_by_group(rmse_df)\\n# plt.savefig(\\n#     f\\\"{wids_path}/validation_result/{config_name}_rmse_by_group_depth{depth}.png\\\"\\n# )\";\n                var nbb_cells = Jupyter.notebook.get_cells();\n                for (var i = 0; i < nbb_cells.length; ++i) {\n                    if (nbb_cells[i].input_prompt_number == nbb_cell_id) {\n                        if (nbb_cells[i].get_text() == nbb_unformatted_code) {\n                             nbb_cells[i].set_text(nbb_formatted_code);\n                        }\n                        break;\n                    }\n                }\n            }, 500);\n            ",
      "text/plain": [
       "<IPython.core.display.Javascript object>"
      ]
     },
     "metadata": {},
     "output_type": "display_data"
    }
   ],
   "source": [
    "depth = 12\n",
    "model = cb.CatBoostRegressor(loss_function=\"RMSE\", depth=depth, verbose=False)\n",
    "\n",
    "## Run LOY model\n",
    "catboost_rmse = mu.run_leave_year_out(\n",
    "    model_df=train_filter_df,\n",
    "    ml_model=model,\n",
    "    features_columns=features_columns,\n",
    "    if_scale_data=if_scale,\n",
    "    if_one_hot=if_one_hot,\n",
    "    model_type=\"catboost\",\n",
    ")\n",
    "print(f\"Average RMSE:\\n{catboost_rmse.mean()}\")\n",
    "display(catboost_rmse)\n",
    "\n",
    "## predict on test data\n",
    "train_filter_x_df, train_filter_y_df = mu.split_model_feature_response(\n",
    "    train_filter_df, features_columns\n",
    ")\n",
    "test_filter_x_df = mu.split_model_feature_response(\n",
    "    test_filter_df, features_columns, if_with_response=False\n",
    ")\n",
    "processed_train_x_df, processed_test_x_df = mu.process_train_test_data(\n",
    "    train_filter_x_df, test_filter_x_df, if_scale, if_one_hot, full_data_df = train_filter_x_df\n",
    ")\n",
    "\n",
    "train_predict, test_predict, fitted_model = mu.run_catboost_model(\n",
    "    model, processed_train_x_df, train_filter_y_df, processed_test_x_df\n",
    ")\n",
    "training_rmse = mu.calculate_rmse(train_filter_y_df, train_predict)\n",
    "print(f\"Whole data train RMSE: {training_rmse}\")\n",
    "\n",
    "## output save result\n",
    "catboost_rmse.loc[catboost_rmse.shape[0], :] = [0, training_rmse, np.nan]\n",
    "catboost_rmse[\"method\"] = catboost_rmse[\"left_out_year\"].apply(\n",
    "    lambda x: \"loyo\" if x > 0 else \"whole train\"\n",
    ")\n",
    "display(catboost_rmse)\n",
    "catboost_rmse.to_csv(\n",
    "    f\"{wids_path}/validation_result/{config_name}_depth{depth}.csv\", index=False\n",
    ")\n",
    "\n",
    "test_prediction_result = test_df[[\"id\"]]\n",
    "test_prediction_result[\"site_eui\"] = test_predict\n",
    "test_prediction_result.to_csv(\n",
    "    f\"{wids_path}/prediction_result/{config_name}_depth{depth}.csv\", index=False\n",
    ")\n",
    "\n",
    "# plot_catboost_feature_importance(model)\n",
    "# plt.savefig(\n",
    "#     f\"{wids_path}/validation_result/{config_name}_feature_importance_depth{depth}.png\"\n",
    "# )\n",
    "\n",
    "# rmse_df = get_rmse_by_group(\n",
    "#     train_filter_x_df.rename(\n",
    "#         columns={\"backfilled_energy_star_rating\": \"energy_star_rating\"}\n",
    "#     ),\n",
    "#     train_filter_y_df,\n",
    "#     train_predict,\n",
    "# )\n",
    "# plot_rmse_by_group(rmse_df)\n",
    "# plt.savefig(\n",
    "#     f\"{wids_path}/validation_result/{config_name}_rmse_by_group_depth{depth}.png\"\n",
    "# )"
   ]
  },
  {
   "cell_type": "code",
   "execution_count": 36,
   "metadata": {},
   "outputs": [
    {
     "name": "stdout",
     "output_type": "stream",
     "text": [
      "compare_impute_log_temp_pca_onehot_impute\n",
      "Average RMSE:\n",
      "left_out_year     3.000000\n",
      "train_rmse       27.086945\n",
      "test_rmse        44.238423\n",
      "dtype: float64\n"
     ]
    },
    {
     "data": {
      "text/html": [
       "<div>\n",
       "<style scoped>\n",
       "    .dataframe tbody tr th:only-of-type {\n",
       "        vertical-align: middle;\n",
       "    }\n",
       "\n",
       "    .dataframe tbody tr th {\n",
       "        vertical-align: top;\n",
       "    }\n",
       "\n",
       "    .dataframe thead th {\n",
       "        text-align: right;\n",
       "    }\n",
       "</style>\n",
       "<table border=\"1\" class=\"dataframe\">\n",
       "  <thead>\n",
       "    <tr style=\"text-align: right;\">\n",
       "      <th></th>\n",
       "      <th>left_out_year</th>\n",
       "      <th>train_rmse</th>\n",
       "      <th>test_rmse</th>\n",
       "      <th>method</th>\n",
       "    </tr>\n",
       "  </thead>\n",
       "  <tbody>\n",
       "    <tr>\n",
       "      <th>0</th>\n",
       "      <td>1.0</td>\n",
       "      <td>26.978518</td>\n",
       "      <td>55.269912</td>\n",
       "      <td>loyo</td>\n",
       "    </tr>\n",
       "    <tr>\n",
       "      <th>1</th>\n",
       "      <td>2.0</td>\n",
       "      <td>26.272615</td>\n",
       "      <td>42.497042</td>\n",
       "      <td>loyo</td>\n",
       "    </tr>\n",
       "    <tr>\n",
       "      <th>2</th>\n",
       "      <td>3.0</td>\n",
       "      <td>25.265986</td>\n",
       "      <td>46.672325</td>\n",
       "      <td>loyo</td>\n",
       "    </tr>\n",
       "    <tr>\n",
       "      <th>3</th>\n",
       "      <td>4.0</td>\n",
       "      <td>27.232493</td>\n",
       "      <td>38.849916</td>\n",
       "      <td>loyo</td>\n",
       "    </tr>\n",
       "    <tr>\n",
       "      <th>4</th>\n",
       "      <td>5.0</td>\n",
       "      <td>28.600480</td>\n",
       "      <td>37.580271</td>\n",
       "      <td>loyo</td>\n",
       "    </tr>\n",
       "    <tr>\n",
       "      <th>5</th>\n",
       "      <td>6.0</td>\n",
       "      <td>28.046996</td>\n",
       "      <td>44.561072</td>\n",
       "      <td>loyo</td>\n",
       "    </tr>\n",
       "    <tr>\n",
       "      <th>6</th>\n",
       "      <td>0.0</td>\n",
       "      <td>27.211525</td>\n",
       "      <td>NaN</td>\n",
       "      <td>whole train</td>\n",
       "    </tr>\n",
       "  </tbody>\n",
       "</table>\n",
       "</div>"
      ],
      "text/plain": [
       "   left_out_year  train_rmse  test_rmse       method\n",
       "0            1.0   26.978518  55.269912         loyo\n",
       "1            2.0   26.272615  42.497042         loyo\n",
       "2            3.0   25.265986  46.672325         loyo\n",
       "3            4.0   27.232493  38.849916         loyo\n",
       "4            5.0   28.600480  37.580271         loyo\n",
       "5            6.0   28.046996  44.561072         loyo\n",
       "6            0.0   27.211525        NaN  whole train"
      ]
     },
     "metadata": {},
     "output_type": "display_data"
    },
    {
     "data": {
      "application/javascript": "\n            setTimeout(function() {\n                var nbb_cell_id = 36;\n                var nbb_unformatted_code = \"print(config_name)\\nprint(f\\\"Average RMSE:\\\\n{catboost_rmse.mean()}\\\")\\ndisplay(catboost_rmse)\";\n                var nbb_formatted_code = \"print(config_name)\\nprint(f\\\"Average RMSE:\\\\n{catboost_rmse.mean()}\\\")\\ndisplay(catboost_rmse)\";\n                var nbb_cells = Jupyter.notebook.get_cells();\n                for (var i = 0; i < nbb_cells.length; ++i) {\n                    if (nbb_cells[i].input_prompt_number == nbb_cell_id) {\n                        if (nbb_cells[i].get_text() == nbb_unformatted_code) {\n                             nbb_cells[i].set_text(nbb_formatted_code);\n                        }\n                        break;\n                    }\n                }\n            }, 500);\n            ",
      "text/plain": [
       "<IPython.core.display.Javascript object>"
      ]
     },
     "metadata": {},
     "output_type": "display_data"
    }
   ],
   "source": [
    "print(config_name)\n",
    "print(f\"Average RMSE:\\n{catboost_rmse.mean()}\")\n",
    "display(catboost_rmse)"
   ]
  },
  {
   "cell_type": "code",
   "execution_count": 29,
   "metadata": {},
   "outputs": [
    {
     "name": "stdout",
     "output_type": "stream",
     "text": [
      "compare_impute_log_temp_pca_onehot_xgb_impute\n",
      "Average RMSE:\n",
      "left_out_year     3.000000\n",
      "train_rmse       26.452001\n",
      "test_rmse        44.924876\n",
      "dtype: float64\n"
     ]
    },
    {
     "data": {
      "text/html": [
       "<div>\n",
       "<style scoped>\n",
       "    .dataframe tbody tr th:only-of-type {\n",
       "        vertical-align: middle;\n",
       "    }\n",
       "\n",
       "    .dataframe tbody tr th {\n",
       "        vertical-align: top;\n",
       "    }\n",
       "\n",
       "    .dataframe thead th {\n",
       "        text-align: right;\n",
       "    }\n",
       "</style>\n",
       "<table border=\"1\" class=\"dataframe\">\n",
       "  <thead>\n",
       "    <tr style=\"text-align: right;\">\n",
       "      <th></th>\n",
       "      <th>left_out_year</th>\n",
       "      <th>train_rmse</th>\n",
       "      <th>test_rmse</th>\n",
       "      <th>method</th>\n",
       "    </tr>\n",
       "  </thead>\n",
       "  <tbody>\n",
       "    <tr>\n",
       "      <th>0</th>\n",
       "      <td>1.0</td>\n",
       "      <td>26.296777</td>\n",
       "      <td>55.932372</td>\n",
       "      <td>loyo</td>\n",
       "    </tr>\n",
       "    <tr>\n",
       "      <th>1</th>\n",
       "      <td>2.0</td>\n",
       "      <td>25.751164</td>\n",
       "      <td>43.971203</td>\n",
       "      <td>loyo</td>\n",
       "    </tr>\n",
       "    <tr>\n",
       "      <th>2</th>\n",
       "      <td>3.0</td>\n",
       "      <td>24.506422</td>\n",
       "      <td>47.320125</td>\n",
       "      <td>loyo</td>\n",
       "    </tr>\n",
       "    <tr>\n",
       "      <th>3</th>\n",
       "      <td>4.0</td>\n",
       "      <td>26.414140</td>\n",
       "      <td>40.677329</td>\n",
       "      <td>loyo</td>\n",
       "    </tr>\n",
       "    <tr>\n",
       "      <th>4</th>\n",
       "      <td>5.0</td>\n",
       "      <td>27.839090</td>\n",
       "      <td>36.944538</td>\n",
       "      <td>loyo</td>\n",
       "    </tr>\n",
       "    <tr>\n",
       "      <th>5</th>\n",
       "      <td>6.0</td>\n",
       "      <td>27.606443</td>\n",
       "      <td>44.703691</td>\n",
       "      <td>loyo</td>\n",
       "    </tr>\n",
       "    <tr>\n",
       "      <th>6</th>\n",
       "      <td>0.0</td>\n",
       "      <td>26.749973</td>\n",
       "      <td>NaN</td>\n",
       "      <td>whole train</td>\n",
       "    </tr>\n",
       "  </tbody>\n",
       "</table>\n",
       "</div>"
      ],
      "text/plain": [
       "   left_out_year  train_rmse  test_rmse       method\n",
       "0            1.0   26.296777  55.932372         loyo\n",
       "1            2.0   25.751164  43.971203         loyo\n",
       "2            3.0   24.506422  47.320125         loyo\n",
       "3            4.0   26.414140  40.677329         loyo\n",
       "4            5.0   27.839090  36.944538         loyo\n",
       "5            6.0   27.606443  44.703691         loyo\n",
       "6            0.0   26.749973        NaN  whole train"
      ]
     },
     "metadata": {},
     "output_type": "display_data"
    },
    {
     "data": {
      "application/javascript": "\n            setTimeout(function() {\n                var nbb_cell_id = 29;\n                var nbb_unformatted_code = \"print(config_name)\\nprint(f\\\"Average RMSE:\\\\n{catboost_rmse.mean()}\\\")\\ndisplay(catboost_rmse)\";\n                var nbb_formatted_code = \"print(config_name)\\nprint(f\\\"Average RMSE:\\\\n{catboost_rmse.mean()}\\\")\\ndisplay(catboost_rmse)\";\n                var nbb_cells = Jupyter.notebook.get_cells();\n                for (var i = 0; i < nbb_cells.length; ++i) {\n                    if (nbb_cells[i].input_prompt_number == nbb_cell_id) {\n                        if (nbb_cells[i].get_text() == nbb_unformatted_code) {\n                             nbb_cells[i].set_text(nbb_formatted_code);\n                        }\n                        break;\n                    }\n                }\n            }, 500);\n            ",
      "text/plain": [
       "<IPython.core.display.Javascript object>"
      ]
     },
     "metadata": {},
     "output_type": "display_data"
    }
   ],
   "source": [
    "print(config_name)\n",
    "print(f\"Average RMSE:\\n{catboost_rmse.mean()}\")\n",
    "display(catboost_rmse)"
   ]
  },
  {
   "cell_type": "code",
   "execution_count": 22,
   "metadata": {},
   "outputs": [
    {
     "name": "stdout",
     "output_type": "stream",
     "text": [
      "compare_impute_log_temp_pca_onehot\n",
      "Average RMSE:\n",
      "left_out_year     3.000000\n",
      "train_rmse       26.874593\n",
      "test_rmse        44.397354\n",
      "dtype: float64\n"
     ]
    },
    {
     "data": {
      "text/html": [
       "<div>\n",
       "<style scoped>\n",
       "    .dataframe tbody tr th:only-of-type {\n",
       "        vertical-align: middle;\n",
       "    }\n",
       "\n",
       "    .dataframe tbody tr th {\n",
       "        vertical-align: top;\n",
       "    }\n",
       "\n",
       "    .dataframe thead th {\n",
       "        text-align: right;\n",
       "    }\n",
       "</style>\n",
       "<table border=\"1\" class=\"dataframe\">\n",
       "  <thead>\n",
       "    <tr style=\"text-align: right;\">\n",
       "      <th></th>\n",
       "      <th>left_out_year</th>\n",
       "      <th>train_rmse</th>\n",
       "      <th>test_rmse</th>\n",
       "      <th>method</th>\n",
       "    </tr>\n",
       "  </thead>\n",
       "  <tbody>\n",
       "    <tr>\n",
       "      <th>0</th>\n",
       "      <td>1.0</td>\n",
       "      <td>26.736722</td>\n",
       "      <td>54.757628</td>\n",
       "      <td>loyo</td>\n",
       "    </tr>\n",
       "    <tr>\n",
       "      <th>1</th>\n",
       "      <td>2.0</td>\n",
       "      <td>26.090069</td>\n",
       "      <td>42.588651</td>\n",
       "      <td>loyo</td>\n",
       "    </tr>\n",
       "    <tr>\n",
       "      <th>2</th>\n",
       "      <td>3.0</td>\n",
       "      <td>25.074675</td>\n",
       "      <td>46.077103</td>\n",
       "      <td>loyo</td>\n",
       "    </tr>\n",
       "    <tr>\n",
       "      <th>3</th>\n",
       "      <td>4.0</td>\n",
       "      <td>26.756965</td>\n",
       "      <td>40.472123</td>\n",
       "      <td>loyo</td>\n",
       "    </tr>\n",
       "    <tr>\n",
       "      <th>4</th>\n",
       "      <td>5.0</td>\n",
       "      <td>28.456534</td>\n",
       "      <td>35.684101</td>\n",
       "      <td>loyo</td>\n",
       "    </tr>\n",
       "    <tr>\n",
       "      <th>5</th>\n",
       "      <td>6.0</td>\n",
       "      <td>27.985602</td>\n",
       "      <td>46.804517</td>\n",
       "      <td>loyo</td>\n",
       "    </tr>\n",
       "    <tr>\n",
       "      <th>6</th>\n",
       "      <td>0.0</td>\n",
       "      <td>27.021581</td>\n",
       "      <td>NaN</td>\n",
       "      <td>whole train</td>\n",
       "    </tr>\n",
       "  </tbody>\n",
       "</table>\n",
       "</div>"
      ],
      "text/plain": [
       "   left_out_year  train_rmse  test_rmse       method\n",
       "0            1.0   26.736722  54.757628         loyo\n",
       "1            2.0   26.090069  42.588651         loyo\n",
       "2            3.0   25.074675  46.077103         loyo\n",
       "3            4.0   26.756965  40.472123         loyo\n",
       "4            5.0   28.456534  35.684101         loyo\n",
       "5            6.0   27.985602  46.804517         loyo\n",
       "6            0.0   27.021581        NaN  whole train"
      ]
     },
     "metadata": {},
     "output_type": "display_data"
    },
    {
     "data": {
      "application/javascript": "\n            setTimeout(function() {\n                var nbb_cell_id = 22;\n                var nbb_unformatted_code = \"print(config_name)\\nprint(f\\\"Average RMSE:\\\\n{catboost_rmse.mean()}\\\")\\ndisplay(catboost_rmse)\";\n                var nbb_formatted_code = \"print(config_name)\\nprint(f\\\"Average RMSE:\\\\n{catboost_rmse.mean()}\\\")\\ndisplay(catboost_rmse)\";\n                var nbb_cells = Jupyter.notebook.get_cells();\n                for (var i = 0; i < nbb_cells.length; ++i) {\n                    if (nbb_cells[i].input_prompt_number == nbb_cell_id) {\n                        if (nbb_cells[i].get_text() == nbb_unformatted_code) {\n                             nbb_cells[i].set_text(nbb_formatted_code);\n                        }\n                        break;\n                    }\n                }\n            }, 500);\n            ",
      "text/plain": [
       "<IPython.core.display.Javascript object>"
      ]
     },
     "metadata": {},
     "output_type": "display_data"
    }
   ],
   "source": [
    "print(config_name)\n",
    "print(f\"Average RMSE:\\n{catboost_rmse.mean()}\")\n",
    "display(catboost_rmse)"
   ]
  },
  {
   "cell_type": "code",
   "execution_count": null,
   "metadata": {},
   "outputs": [],
   "source": []
  }
 ],
 "metadata": {
  "kernelspec": {
   "display_name": "Python 3",
   "language": "python",
   "name": "python3"
  },
  "language_info": {
   "codemirror_mode": {
    "name": "ipython",
    "version": 3
   },
   "file_extension": ".py",
   "mimetype": "text/x-python",
   "name": "python",
   "nbconvert_exporter": "python",
   "pygments_lexer": "ipython3",
   "version": "3.7.9"
  }
 },
 "nbformat": 4,
 "nbformat_minor": 2
}
